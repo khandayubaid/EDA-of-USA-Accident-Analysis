{
 "cells": [
  {
   "cell_type": "markdown",
   "metadata": {
    "id": "yiREdA-X1e5t"
   },
   "source": [
    "# us-accident-analysis\n",
    "\n",
    "Use the \"Run\" button to execute the code."
   ]
  },
  {
   "cell_type": "markdown",
   "metadata": {
    "id": "uFk1KyyV2FBb"
   },
   "source": [
    "#US Accidents Exploratory Data Analysis\n",
    "\n",
    "TODO --talk about EDA\n",
    "\n",
    "TODO --talk about the dataset(source,what it containss,how it will be useful)\n",
    "\n",
    "      --Kaggle\n",
    "      --information about accidents\n",
    "      --can use useful to prevent accidents\n",
    "      --No Data about New York City\n",
    "\n"
   ]
  },
  {
   "cell_type": "code",
   "execution_count": null,
   "metadata": {
    "id": "oyQ9rVOB2XWg"
   },
   "outputs": [],
   "source": [
    "pip install opendatasets --upgrade --quiet"
   ]
  },
  {
   "cell_type": "code",
   "execution_count": null,
   "metadata": {
    "id": "CogK8XGi5rWd"
   },
   "outputs": [],
   "source": [
    "import opendatasets as od\n",
    "download_url='https://www.kaggle.com/datasets/sobhanmoosavi/us-accidents'\n",
    "od.download(download_url)"
   ]
  },
  {
   "cell_type": "code",
   "execution_count": null,
   "metadata": {
    "id": "ChRu4jWuT7Fp"
   },
   "outputs": [],
   "source": [
    "data_filename='./us-accidents/US_Accidents_Dec21_updated.csv'"
   ]
  },
  {
   "cell_type": "code",
   "execution_count": null,
   "metadata": {
    "id": "g9GcX9ECHSSH"
   },
   "outputs": [],
   "source": [
    "#from google.colab import drive\n",
    "#drive.mount('/content/drive')"
   ]
  },
  {
   "cell_type": "markdown",
   "metadata": {
    "id": "YnSnTSHj2ssj"
   },
   "source": [
    "##Data Preparation And Cleaning\n",
    "\n",
    "1.   Load the file using Python\n",
    "2.   Look at some information about the data & the columns\n",
    "3.   Fix any mix or any incorrect values\n",
    "\n"
   ]
  },
  {
   "cell_type": "code",
   "execution_count": null,
   "metadata": {
    "id": "3yOZmfQk2ZG-"
   },
   "outputs": [],
   "source": [
    "import pandas as pd"
   ]
  },
  {
   "cell_type": "code",
   "execution_count": null,
   "metadata": {
    "id": "ja6V_w_x2Y-Y"
   },
   "outputs": [],
   "source": [
    "df = pd.read_csv(data_filename)"
   ]
  },
  {
   "cell_type": "code",
   "execution_count": 30,
   "metadata": {
    "colab": {
     "base_uri": "https://localhost:8080/",
     "height": 939
    },
    "id": "K-8n6cSV2Y0B",
    "outputId": "57dde80f-ea94-4985-94d4-19433ca9e7b6"
   },
   "outputs": [
    {
     "data": {
      "text/html": [
       "\n",
       "  <div id=\"df-0e8beba2-c788-420c-98e1-4788ed52f81d\">\n",
       "    <div class=\"colab-df-container\">\n",
       "      <div>\n",
       "<style scoped>\n",
       "    .dataframe tbody tr th:only-of-type {\n",
       "        vertical-align: middle;\n",
       "    }\n",
       "\n",
       "    .dataframe tbody tr th {\n",
       "        vertical-align: top;\n",
       "    }\n",
       "\n",
       "    .dataframe thead th {\n",
       "        text-align: right;\n",
       "    }\n",
       "</style>\n",
       "<table border=\"1\" class=\"dataframe\">\n",
       "  <thead>\n",
       "    <tr style=\"text-align: right;\">\n",
       "      <th></th>\n",
       "      <th>ID</th>\n",
       "      <th>Severity</th>\n",
       "      <th>Start_Time</th>\n",
       "      <th>End_Time</th>\n",
       "      <th>Start_Lat</th>\n",
       "      <th>Start_Lng</th>\n",
       "      <th>End_Lat</th>\n",
       "      <th>End_Lng</th>\n",
       "      <th>Distance(mi)</th>\n",
       "      <th>Description</th>\n",
       "      <th>...</th>\n",
       "      <th>Roundabout</th>\n",
       "      <th>Station</th>\n",
       "      <th>Stop</th>\n",
       "      <th>Traffic_Calming</th>\n",
       "      <th>Traffic_Signal</th>\n",
       "      <th>Turning_Loop</th>\n",
       "      <th>Sunrise_Sunset</th>\n",
       "      <th>Civil_Twilight</th>\n",
       "      <th>Nautical_Twilight</th>\n",
       "      <th>Astronomical_Twilight</th>\n",
       "    </tr>\n",
       "  </thead>\n",
       "  <tbody>\n",
       "    <tr>\n",
       "      <th>0</th>\n",
       "      <td>A-1</td>\n",
       "      <td>3</td>\n",
       "      <td>2016-02-08 00:37:08</td>\n",
       "      <td>2016-02-08 06:37:08</td>\n",
       "      <td>40.108910</td>\n",
       "      <td>-83.092860</td>\n",
       "      <td>40.112060</td>\n",
       "      <td>-83.031870</td>\n",
       "      <td>3.230</td>\n",
       "      <td>Between Sawmill Rd/Exit 20 and OH-315/Olentang...</td>\n",
       "      <td>...</td>\n",
       "      <td>False</td>\n",
       "      <td>False</td>\n",
       "      <td>False</td>\n",
       "      <td>False</td>\n",
       "      <td>False</td>\n",
       "      <td>False</td>\n",
       "      <td>Night</td>\n",
       "      <td>Night</td>\n",
       "      <td>Night</td>\n",
       "      <td>Night</td>\n",
       "    </tr>\n",
       "    <tr>\n",
       "      <th>1</th>\n",
       "      <td>A-2</td>\n",
       "      <td>2</td>\n",
       "      <td>2016-02-08 05:56:20</td>\n",
       "      <td>2016-02-08 11:56:20</td>\n",
       "      <td>39.865420</td>\n",
       "      <td>-84.062800</td>\n",
       "      <td>39.865010</td>\n",
       "      <td>-84.048730</td>\n",
       "      <td>0.747</td>\n",
       "      <td>At OH-4/OH-235/Exit 41 - Accident.</td>\n",
       "      <td>...</td>\n",
       "      <td>False</td>\n",
       "      <td>False</td>\n",
       "      <td>False</td>\n",
       "      <td>False</td>\n",
       "      <td>False</td>\n",
       "      <td>False</td>\n",
       "      <td>Night</td>\n",
       "      <td>Night</td>\n",
       "      <td>Night</td>\n",
       "      <td>Night</td>\n",
       "    </tr>\n",
       "    <tr>\n",
       "      <th>2</th>\n",
       "      <td>A-3</td>\n",
       "      <td>2</td>\n",
       "      <td>2016-02-08 06:15:39</td>\n",
       "      <td>2016-02-08 12:15:39</td>\n",
       "      <td>39.102660</td>\n",
       "      <td>-84.524680</td>\n",
       "      <td>39.102090</td>\n",
       "      <td>-84.523960</td>\n",
       "      <td>0.055</td>\n",
       "      <td>At I-71/US-50/Exit 1 - Accident.</td>\n",
       "      <td>...</td>\n",
       "      <td>False</td>\n",
       "      <td>False</td>\n",
       "      <td>False</td>\n",
       "      <td>False</td>\n",
       "      <td>False</td>\n",
       "      <td>False</td>\n",
       "      <td>Night</td>\n",
       "      <td>Night</td>\n",
       "      <td>Night</td>\n",
       "      <td>Day</td>\n",
       "    </tr>\n",
       "    <tr>\n",
       "      <th>3</th>\n",
       "      <td>A-4</td>\n",
       "      <td>2</td>\n",
       "      <td>2016-02-08 06:51:45</td>\n",
       "      <td>2016-02-08 12:51:45</td>\n",
       "      <td>41.062130</td>\n",
       "      <td>-81.537840</td>\n",
       "      <td>41.062170</td>\n",
       "      <td>-81.535470</td>\n",
       "      <td>0.123</td>\n",
       "      <td>At Dart Ave/Exit 21 - Accident.</td>\n",
       "      <td>...</td>\n",
       "      <td>False</td>\n",
       "      <td>False</td>\n",
       "      <td>False</td>\n",
       "      <td>False</td>\n",
       "      <td>False</td>\n",
       "      <td>False</td>\n",
       "      <td>Night</td>\n",
       "      <td>Night</td>\n",
       "      <td>Day</td>\n",
       "      <td>Day</td>\n",
       "    </tr>\n",
       "    <tr>\n",
       "      <th>4</th>\n",
       "      <td>A-5</td>\n",
       "      <td>3</td>\n",
       "      <td>2016-02-08 07:53:43</td>\n",
       "      <td>2016-02-08 13:53:43</td>\n",
       "      <td>39.172393</td>\n",
       "      <td>-84.492792</td>\n",
       "      <td>39.170476</td>\n",
       "      <td>-84.501798</td>\n",
       "      <td>0.500</td>\n",
       "      <td>At Mitchell Ave/Exit 6 - Accident.</td>\n",
       "      <td>...</td>\n",
       "      <td>False</td>\n",
       "      <td>False</td>\n",
       "      <td>False</td>\n",
       "      <td>False</td>\n",
       "      <td>False</td>\n",
       "      <td>False</td>\n",
       "      <td>Day</td>\n",
       "      <td>Day</td>\n",
       "      <td>Day</td>\n",
       "      <td>Day</td>\n",
       "    </tr>\n",
       "    <tr>\n",
       "      <th>...</th>\n",
       "      <td>...</td>\n",
       "      <td>...</td>\n",
       "      <td>...</td>\n",
       "      <td>...</td>\n",
       "      <td>...</td>\n",
       "      <td>...</td>\n",
       "      <td>...</td>\n",
       "      <td>...</td>\n",
       "      <td>...</td>\n",
       "      <td>...</td>\n",
       "      <td>...</td>\n",
       "      <td>...</td>\n",
       "      <td>...</td>\n",
       "      <td>...</td>\n",
       "      <td>...</td>\n",
       "      <td>...</td>\n",
       "      <td>...</td>\n",
       "      <td>...</td>\n",
       "      <td>...</td>\n",
       "      <td>...</td>\n",
       "      <td>...</td>\n",
       "    </tr>\n",
       "    <tr>\n",
       "      <th>2845337</th>\n",
       "      <td>A-2845338</td>\n",
       "      <td>2</td>\n",
       "      <td>2019-08-23 18:03:25</td>\n",
       "      <td>2019-08-23 18:32:01</td>\n",
       "      <td>34.002480</td>\n",
       "      <td>-117.379360</td>\n",
       "      <td>33.998880</td>\n",
       "      <td>-117.370940</td>\n",
       "      <td>0.543</td>\n",
       "      <td>At Market St - Accident.</td>\n",
       "      <td>...</td>\n",
       "      <td>False</td>\n",
       "      <td>False</td>\n",
       "      <td>False</td>\n",
       "      <td>False</td>\n",
       "      <td>False</td>\n",
       "      <td>False</td>\n",
       "      <td>Day</td>\n",
       "      <td>Day</td>\n",
       "      <td>Day</td>\n",
       "      <td>Day</td>\n",
       "    </tr>\n",
       "    <tr>\n",
       "      <th>2845338</th>\n",
       "      <td>A-2845339</td>\n",
       "      <td>2</td>\n",
       "      <td>2019-08-23 19:11:30</td>\n",
       "      <td>2019-08-23 19:38:23</td>\n",
       "      <td>32.766960</td>\n",
       "      <td>-117.148060</td>\n",
       "      <td>32.765550</td>\n",
       "      <td>-117.153630</td>\n",
       "      <td>0.338</td>\n",
       "      <td>At Camino Del Rio/Mission Center Rd - Accident.</td>\n",
       "      <td>...</td>\n",
       "      <td>False</td>\n",
       "      <td>False</td>\n",
       "      <td>False</td>\n",
       "      <td>False</td>\n",
       "      <td>False</td>\n",
       "      <td>False</td>\n",
       "      <td>Day</td>\n",
       "      <td>Day</td>\n",
       "      <td>Day</td>\n",
       "      <td>Day</td>\n",
       "    </tr>\n",
       "    <tr>\n",
       "      <th>2845339</th>\n",
       "      <td>A-2845340</td>\n",
       "      <td>2</td>\n",
       "      <td>2019-08-23 19:00:21</td>\n",
       "      <td>2019-08-23 19:28:49</td>\n",
       "      <td>33.775450</td>\n",
       "      <td>-117.847790</td>\n",
       "      <td>33.777400</td>\n",
       "      <td>-117.857270</td>\n",
       "      <td>0.561</td>\n",
       "      <td>At Glassell St/Grand Ave - Accident. in the ri...</td>\n",
       "      <td>...</td>\n",
       "      <td>False</td>\n",
       "      <td>False</td>\n",
       "      <td>False</td>\n",
       "      <td>False</td>\n",
       "      <td>False</td>\n",
       "      <td>False</td>\n",
       "      <td>Day</td>\n",
       "      <td>Day</td>\n",
       "      <td>Day</td>\n",
       "      <td>Day</td>\n",
       "    </tr>\n",
       "    <tr>\n",
       "      <th>2845340</th>\n",
       "      <td>A-2845341</td>\n",
       "      <td>2</td>\n",
       "      <td>2019-08-23 19:00:21</td>\n",
       "      <td>2019-08-23 19:29:42</td>\n",
       "      <td>33.992460</td>\n",
       "      <td>-118.403020</td>\n",
       "      <td>33.983110</td>\n",
       "      <td>-118.395650</td>\n",
       "      <td>0.772</td>\n",
       "      <td>At CA-90/Marina Fwy/Jefferson Blvd - Accident.</td>\n",
       "      <td>...</td>\n",
       "      <td>False</td>\n",
       "      <td>False</td>\n",
       "      <td>False</td>\n",
       "      <td>False</td>\n",
       "      <td>False</td>\n",
       "      <td>False</td>\n",
       "      <td>Day</td>\n",
       "      <td>Day</td>\n",
       "      <td>Day</td>\n",
       "      <td>Day</td>\n",
       "    </tr>\n",
       "    <tr>\n",
       "      <th>2845341</th>\n",
       "      <td>A-2845342</td>\n",
       "      <td>2</td>\n",
       "      <td>2019-08-23 18:52:06</td>\n",
       "      <td>2019-08-23 19:21:31</td>\n",
       "      <td>34.133930</td>\n",
       "      <td>-117.230920</td>\n",
       "      <td>34.137360</td>\n",
       "      <td>-117.239340</td>\n",
       "      <td>0.537</td>\n",
       "      <td>At Highland Ave/Arden Ave - Accident.</td>\n",
       "      <td>...</td>\n",
       "      <td>False</td>\n",
       "      <td>False</td>\n",
       "      <td>False</td>\n",
       "      <td>False</td>\n",
       "      <td>False</td>\n",
       "      <td>False</td>\n",
       "      <td>Day</td>\n",
       "      <td>Day</td>\n",
       "      <td>Day</td>\n",
       "      <td>Day</td>\n",
       "    </tr>\n",
       "  </tbody>\n",
       "</table>\n",
       "<p>2845342 rows × 47 columns</p>\n",
       "</div>\n",
       "      <button class=\"colab-df-convert\" onclick=\"convertToInteractive('df-0e8beba2-c788-420c-98e1-4788ed52f81d')\"\n",
       "              title=\"Convert this dataframe to an interactive table.\"\n",
       "              style=\"display:none;\">\n",
       "        \n",
       "  <svg xmlns=\"http://www.w3.org/2000/svg\" height=\"24px\"viewBox=\"0 0 24 24\"\n",
       "       width=\"24px\">\n",
       "    <path d=\"M0 0h24v24H0V0z\" fill=\"none\"/>\n",
       "    <path d=\"M18.56 5.44l.94 2.06.94-2.06 2.06-.94-2.06-.94-.94-2.06-.94 2.06-2.06.94zm-11 1L8.5 8.5l.94-2.06 2.06-.94-2.06-.94L8.5 2.5l-.94 2.06-2.06.94zm10 10l.94 2.06.94-2.06 2.06-.94-2.06-.94-.94-2.06-.94 2.06-2.06.94z\"/><path d=\"M17.41 7.96l-1.37-1.37c-.4-.4-.92-.59-1.43-.59-.52 0-1.04.2-1.43.59L10.3 9.45l-7.72 7.72c-.78.78-.78 2.05 0 2.83L4 21.41c.39.39.9.59 1.41.59.51 0 1.02-.2 1.41-.59l7.78-7.78 2.81-2.81c.8-.78.8-2.07 0-2.86zM5.41 20L4 18.59l7.72-7.72 1.47 1.35L5.41 20z\"/>\n",
       "  </svg>\n",
       "      </button>\n",
       "      \n",
       "  <style>\n",
       "    .colab-df-container {\n",
       "      display:flex;\n",
       "      flex-wrap:wrap;\n",
       "      gap: 12px;\n",
       "    }\n",
       "\n",
       "    .colab-df-convert {\n",
       "      background-color: #E8F0FE;\n",
       "      border: none;\n",
       "      border-radius: 50%;\n",
       "      cursor: pointer;\n",
       "      display: none;\n",
       "      fill: #1967D2;\n",
       "      height: 32px;\n",
       "      padding: 0 0 0 0;\n",
       "      width: 32px;\n",
       "    }\n",
       "\n",
       "    .colab-df-convert:hover {\n",
       "      background-color: #E2EBFA;\n",
       "      box-shadow: 0px 1px 2px rgba(60, 64, 67, 0.3), 0px 1px 3px 1px rgba(60, 64, 67, 0.15);\n",
       "      fill: #174EA6;\n",
       "    }\n",
       "\n",
       "    [theme=dark] .colab-df-convert {\n",
       "      background-color: #3B4455;\n",
       "      fill: #D2E3FC;\n",
       "    }\n",
       "\n",
       "    [theme=dark] .colab-df-convert:hover {\n",
       "      background-color: #434B5C;\n",
       "      box-shadow: 0px 1px 3px 1px rgba(0, 0, 0, 0.15);\n",
       "      filter: drop-shadow(0px 1px 2px rgba(0, 0, 0, 0.3));\n",
       "      fill: #FFFFFF;\n",
       "    }\n",
       "  </style>\n",
       "\n",
       "      <script>\n",
       "        const buttonEl =\n",
       "          document.querySelector('#df-0e8beba2-c788-420c-98e1-4788ed52f81d button.colab-df-convert');\n",
       "        buttonEl.style.display =\n",
       "          google.colab.kernel.accessAllowed ? 'block' : 'none';\n",
       "\n",
       "        async function convertToInteractive(key) {\n",
       "          const element = document.querySelector('#df-0e8beba2-c788-420c-98e1-4788ed52f81d');\n",
       "          const dataTable =\n",
       "            await google.colab.kernel.invokeFunction('convertToInteractive',\n",
       "                                                     [key], {});\n",
       "          if (!dataTable) return;\n",
       "\n",
       "          const docLinkHtml = 'Like what you see? Visit the ' +\n",
       "            '<a target=\"_blank\" href=https://colab.research.google.com/notebooks/data_table.ipynb>data table notebook</a>'\n",
       "            + ' to learn more about interactive tables.';\n",
       "          element.innerHTML = '';\n",
       "          dataTable['output_type'] = 'display_data';\n",
       "          await google.colab.output.renderOutput(dataTable, element);\n",
       "          const docLink = document.createElement('div');\n",
       "          docLink.innerHTML = docLinkHtml;\n",
       "          element.appendChild(docLink);\n",
       "        }\n",
       "      </script>\n",
       "    </div>\n",
       "  </div>\n",
       "  "
      ],
      "text/plain": [
       "                ID  Severity           Start_Time             End_Time  \\\n",
       "0              A-1         3  2016-02-08 00:37:08  2016-02-08 06:37:08   \n",
       "1              A-2         2  2016-02-08 05:56:20  2016-02-08 11:56:20   \n",
       "2              A-3         2  2016-02-08 06:15:39  2016-02-08 12:15:39   \n",
       "3              A-4         2  2016-02-08 06:51:45  2016-02-08 12:51:45   \n",
       "4              A-5         3  2016-02-08 07:53:43  2016-02-08 13:53:43   \n",
       "...            ...       ...                  ...                  ...   \n",
       "2845337  A-2845338         2  2019-08-23 18:03:25  2019-08-23 18:32:01   \n",
       "2845338  A-2845339         2  2019-08-23 19:11:30  2019-08-23 19:38:23   \n",
       "2845339  A-2845340         2  2019-08-23 19:00:21  2019-08-23 19:28:49   \n",
       "2845340  A-2845341         2  2019-08-23 19:00:21  2019-08-23 19:29:42   \n",
       "2845341  A-2845342         2  2019-08-23 18:52:06  2019-08-23 19:21:31   \n",
       "\n",
       "         Start_Lat   Start_Lng    End_Lat     End_Lng  Distance(mi)  \\\n",
       "0        40.108910  -83.092860  40.112060  -83.031870         3.230   \n",
       "1        39.865420  -84.062800  39.865010  -84.048730         0.747   \n",
       "2        39.102660  -84.524680  39.102090  -84.523960         0.055   \n",
       "3        41.062130  -81.537840  41.062170  -81.535470         0.123   \n",
       "4        39.172393  -84.492792  39.170476  -84.501798         0.500   \n",
       "...            ...         ...        ...         ...           ...   \n",
       "2845337  34.002480 -117.379360  33.998880 -117.370940         0.543   \n",
       "2845338  32.766960 -117.148060  32.765550 -117.153630         0.338   \n",
       "2845339  33.775450 -117.847790  33.777400 -117.857270         0.561   \n",
       "2845340  33.992460 -118.403020  33.983110 -118.395650         0.772   \n",
       "2845341  34.133930 -117.230920  34.137360 -117.239340         0.537   \n",
       "\n",
       "                                               Description  ...  Roundabout  \\\n",
       "0        Between Sawmill Rd/Exit 20 and OH-315/Olentang...  ...       False   \n",
       "1                       At OH-4/OH-235/Exit 41 - Accident.  ...       False   \n",
       "2                         At I-71/US-50/Exit 1 - Accident.  ...       False   \n",
       "3                          At Dart Ave/Exit 21 - Accident.  ...       False   \n",
       "4                       At Mitchell Ave/Exit 6 - Accident.  ...       False   \n",
       "...                                                    ...  ...         ...   \n",
       "2845337                           At Market St - Accident.  ...       False   \n",
       "2845338    At Camino Del Rio/Mission Center Rd - Accident.  ...       False   \n",
       "2845339  At Glassell St/Grand Ave - Accident. in the ri...  ...       False   \n",
       "2845340     At CA-90/Marina Fwy/Jefferson Blvd - Accident.  ...       False   \n",
       "2845341              At Highland Ave/Arden Ave - Accident.  ...       False   \n",
       "\n",
       "        Station   Stop Traffic_Calming Traffic_Signal Turning_Loop  \\\n",
       "0         False  False           False          False        False   \n",
       "1         False  False           False          False        False   \n",
       "2         False  False           False          False        False   \n",
       "3         False  False           False          False        False   \n",
       "4         False  False           False          False        False   \n",
       "...         ...    ...             ...            ...          ...   \n",
       "2845337   False  False           False          False        False   \n",
       "2845338   False  False           False          False        False   \n",
       "2845339   False  False           False          False        False   \n",
       "2845340   False  False           False          False        False   \n",
       "2845341   False  False           False          False        False   \n",
       "\n",
       "        Sunrise_Sunset Civil_Twilight Nautical_Twilight Astronomical_Twilight  \n",
       "0                Night          Night             Night                 Night  \n",
       "1                Night          Night             Night                 Night  \n",
       "2                Night          Night             Night                   Day  \n",
       "3                Night          Night               Day                   Day  \n",
       "4                  Day            Day               Day                   Day  \n",
       "...                ...            ...               ...                   ...  \n",
       "2845337            Day            Day               Day                   Day  \n",
       "2845338            Day            Day               Day                   Day  \n",
       "2845339            Day            Day               Day                   Day  \n",
       "2845340            Day            Day               Day                   Day  \n",
       "2845341            Day            Day               Day                   Day  \n",
       "\n",
       "[2845342 rows x 47 columns]"
      ]
     },
     "execution_count": 30,
     "metadata": {},
     "output_type": "execute_result"
    }
   ],
   "source": [
    "df"
   ]
  },
  {
   "cell_type": "code",
   "execution_count": 31,
   "metadata": {
    "colab": {
     "base_uri": "https://localhost:8080/"
    },
    "id": "5dFItfspW5JI",
    "outputId": "f171e852-ee6f-4bd4-b31e-81b2b57b3ac6"
   },
   "outputs": [
    {
     "data": {
      "text/plain": [
       "Index(['ID', 'Severity', 'Start_Time', 'End_Time', 'Start_Lat', 'Start_Lng',\n",
       "       'End_Lat', 'End_Lng', 'Distance(mi)', 'Description', 'Number', 'Street',\n",
       "       'Side', 'City', 'County', 'State', 'Zipcode', 'Country', 'Timezone',\n",
       "       'Airport_Code', 'Weather_Timestamp', 'Temperature(F)', 'Wind_Chill(F)',\n",
       "       'Humidity(%)', 'Pressure(in)', 'Visibility(mi)', 'Wind_Direction',\n",
       "       'Wind_Speed(mph)', 'Precipitation(in)', 'Weather_Condition', 'Amenity',\n",
       "       'Bump', 'Crossing', 'Give_Way', 'Junction', 'No_Exit', 'Railway',\n",
       "       'Roundabout', 'Station', 'Stop', 'Traffic_Calming', 'Traffic_Signal',\n",
       "       'Turning_Loop', 'Sunrise_Sunset', 'Civil_Twilight', 'Nautical_Twilight',\n",
       "       'Astronomical_Twilight'],\n",
       "      dtype='object')"
      ]
     },
     "execution_count": 31,
     "metadata": {},
     "output_type": "execute_result"
    }
   ],
   "source": [
    "df.columns                #to check columns"
   ]
  },
  {
   "cell_type": "code",
   "execution_count": 32,
   "metadata": {
    "colab": {
     "base_uri": "https://localhost:8080/"
    },
    "id": "hWHjHDvEW41y",
    "outputId": "a208c059-64fc-4898-c008-478e3840a72f"
   },
   "outputs": [
    {
     "data": {
      "text/plain": [
       "47"
      ]
     },
     "execution_count": 32,
     "metadata": {},
     "output_type": "execute_result"
    }
   ],
   "source": [
    "len(df.columns)             #no of columns"
   ]
  },
  {
   "cell_type": "code",
   "execution_count": 33,
   "metadata": {
    "colab": {
     "base_uri": "https://localhost:8080/"
    },
    "id": "o0hOckWTXWR2",
    "outputId": "3091a316-578d-4371-b1a4-cce9dcf4decb"
   },
   "outputs": [
    {
     "data": {
      "text/plain": [
       "2845342"
      ]
     },
     "execution_count": 33,
     "metadata": {},
     "output_type": "execute_result"
    }
   ],
   "source": [
    "len(df)                     #no of rows"
   ]
  },
  {
   "cell_type": "code",
   "execution_count": 34,
   "metadata": {
    "colab": {
     "base_uri": "https://localhost:8080/",
     "height": 364
    },
    "id": "tn8U-FyIXWOo",
    "outputId": "1e6b49f2-51ed-4f89-b38c-fbfd8d3aa369"
   },
   "outputs": [
    {
     "data": {
      "text/html": [
       "\n",
       "  <div id=\"df-e86af2d1-6930-4ad4-996f-c749ffad7a94\">\n",
       "    <div class=\"colab-df-container\">\n",
       "      <div>\n",
       "<style scoped>\n",
       "    .dataframe tbody tr th:only-of-type {\n",
       "        vertical-align: middle;\n",
       "    }\n",
       "\n",
       "    .dataframe tbody tr th {\n",
       "        vertical-align: top;\n",
       "    }\n",
       "\n",
       "    .dataframe thead th {\n",
       "        text-align: right;\n",
       "    }\n",
       "</style>\n",
       "<table border=\"1\" class=\"dataframe\">\n",
       "  <thead>\n",
       "    <tr style=\"text-align: right;\">\n",
       "      <th></th>\n",
       "      <th>Severity</th>\n",
       "      <th>Start_Lat</th>\n",
       "      <th>Start_Lng</th>\n",
       "      <th>End_Lat</th>\n",
       "      <th>End_Lng</th>\n",
       "      <th>Distance(mi)</th>\n",
       "      <th>Number</th>\n",
       "      <th>Temperature(F)</th>\n",
       "      <th>Wind_Chill(F)</th>\n",
       "      <th>Humidity(%)</th>\n",
       "      <th>Pressure(in)</th>\n",
       "      <th>Visibility(mi)</th>\n",
       "      <th>Wind_Speed(mph)</th>\n",
       "      <th>Precipitation(in)</th>\n",
       "    </tr>\n",
       "  </thead>\n",
       "  <tbody>\n",
       "    <tr>\n",
       "      <th>count</th>\n",
       "      <td>2.845342e+06</td>\n",
       "      <td>2.845342e+06</td>\n",
       "      <td>2.845342e+06</td>\n",
       "      <td>2.845342e+06</td>\n",
       "      <td>2.845342e+06</td>\n",
       "      <td>2.845342e+06</td>\n",
       "      <td>1.101431e+06</td>\n",
       "      <td>2.776068e+06</td>\n",
       "      <td>2.375699e+06</td>\n",
       "      <td>2.772250e+06</td>\n",
       "      <td>2.786142e+06</td>\n",
       "      <td>2.774796e+06</td>\n",
       "      <td>2.687398e+06</td>\n",
       "      <td>2.295884e+06</td>\n",
       "    </tr>\n",
       "    <tr>\n",
       "      <th>mean</th>\n",
       "      <td>2.137572e+00</td>\n",
       "      <td>3.624520e+01</td>\n",
       "      <td>-9.711463e+01</td>\n",
       "      <td>3.624532e+01</td>\n",
       "      <td>-9.711439e+01</td>\n",
       "      <td>7.026779e-01</td>\n",
       "      <td>8.089408e+03</td>\n",
       "      <td>6.179356e+01</td>\n",
       "      <td>5.965823e+01</td>\n",
       "      <td>6.436545e+01</td>\n",
       "      <td>2.947234e+01</td>\n",
       "      <td>9.099391e+00</td>\n",
       "      <td>7.395044e+00</td>\n",
       "      <td>7.016940e-03</td>\n",
       "    </tr>\n",
       "    <tr>\n",
       "      <th>std</th>\n",
       "      <td>4.787216e-01</td>\n",
       "      <td>5.363797e+00</td>\n",
       "      <td>1.831782e+01</td>\n",
       "      <td>5.363873e+00</td>\n",
       "      <td>1.831763e+01</td>\n",
       "      <td>1.560361e+00</td>\n",
       "      <td>1.836009e+04</td>\n",
       "      <td>1.862263e+01</td>\n",
       "      <td>2.116097e+01</td>\n",
       "      <td>2.287457e+01</td>\n",
       "      <td>1.045286e+00</td>\n",
       "      <td>2.717546e+00</td>\n",
       "      <td>5.527454e+00</td>\n",
       "      <td>9.348831e-02</td>\n",
       "    </tr>\n",
       "    <tr>\n",
       "      <th>min</th>\n",
       "      <td>1.000000e+00</td>\n",
       "      <td>2.456603e+01</td>\n",
       "      <td>-1.245481e+02</td>\n",
       "      <td>2.456601e+01</td>\n",
       "      <td>-1.245457e+02</td>\n",
       "      <td>0.000000e+00</td>\n",
       "      <td>0.000000e+00</td>\n",
       "      <td>-8.900000e+01</td>\n",
       "      <td>-8.900000e+01</td>\n",
       "      <td>1.000000e+00</td>\n",
       "      <td>0.000000e+00</td>\n",
       "      <td>0.000000e+00</td>\n",
       "      <td>0.000000e+00</td>\n",
       "      <td>0.000000e+00</td>\n",
       "    </tr>\n",
       "    <tr>\n",
       "      <th>25%</th>\n",
       "      <td>2.000000e+00</td>\n",
       "      <td>3.344517e+01</td>\n",
       "      <td>-1.180331e+02</td>\n",
       "      <td>3.344628e+01</td>\n",
       "      <td>-1.180333e+02</td>\n",
       "      <td>5.200000e-02</td>\n",
       "      <td>1.270000e+03</td>\n",
       "      <td>5.000000e+01</td>\n",
       "      <td>4.600000e+01</td>\n",
       "      <td>4.800000e+01</td>\n",
       "      <td>2.931000e+01</td>\n",
       "      <td>1.000000e+01</td>\n",
       "      <td>3.500000e+00</td>\n",
       "      <td>0.000000e+00</td>\n",
       "    </tr>\n",
       "    <tr>\n",
       "      <th>50%</th>\n",
       "      <td>2.000000e+00</td>\n",
       "      <td>3.609861e+01</td>\n",
       "      <td>-9.241808e+01</td>\n",
       "      <td>3.609799e+01</td>\n",
       "      <td>-9.241772e+01</td>\n",
       "      <td>2.440000e-01</td>\n",
       "      <td>4.007000e+03</td>\n",
       "      <td>6.400000e+01</td>\n",
       "      <td>6.300000e+01</td>\n",
       "      <td>6.700000e+01</td>\n",
       "      <td>2.982000e+01</td>\n",
       "      <td>1.000000e+01</td>\n",
       "      <td>7.000000e+00</td>\n",
       "      <td>0.000000e+00</td>\n",
       "    </tr>\n",
       "    <tr>\n",
       "      <th>75%</th>\n",
       "      <td>2.000000e+00</td>\n",
       "      <td>4.016024e+01</td>\n",
       "      <td>-8.037243e+01</td>\n",
       "      <td>4.016105e+01</td>\n",
       "      <td>-8.037338e+01</td>\n",
       "      <td>7.640000e-01</td>\n",
       "      <td>9.567000e+03</td>\n",
       "      <td>7.600000e+01</td>\n",
       "      <td>7.600000e+01</td>\n",
       "      <td>8.300000e+01</td>\n",
       "      <td>3.001000e+01</td>\n",
       "      <td>1.000000e+01</td>\n",
       "      <td>1.000000e+01</td>\n",
       "      <td>0.000000e+00</td>\n",
       "    </tr>\n",
       "    <tr>\n",
       "      <th>max</th>\n",
       "      <td>4.000000e+00</td>\n",
       "      <td>4.900058e+01</td>\n",
       "      <td>-6.711317e+01</td>\n",
       "      <td>4.907500e+01</td>\n",
       "      <td>-6.710924e+01</td>\n",
       "      <td>1.551860e+02</td>\n",
       "      <td>9.999997e+06</td>\n",
       "      <td>1.960000e+02</td>\n",
       "      <td>1.960000e+02</td>\n",
       "      <td>1.000000e+02</td>\n",
       "      <td>5.890000e+01</td>\n",
       "      <td>1.400000e+02</td>\n",
       "      <td>1.087000e+03</td>\n",
       "      <td>2.400000e+01</td>\n",
       "    </tr>\n",
       "  </tbody>\n",
       "</table>\n",
       "</div>\n",
       "      <button class=\"colab-df-convert\" onclick=\"convertToInteractive('df-e86af2d1-6930-4ad4-996f-c749ffad7a94')\"\n",
       "              title=\"Convert this dataframe to an interactive table.\"\n",
       "              style=\"display:none;\">\n",
       "        \n",
       "  <svg xmlns=\"http://www.w3.org/2000/svg\" height=\"24px\"viewBox=\"0 0 24 24\"\n",
       "       width=\"24px\">\n",
       "    <path d=\"M0 0h24v24H0V0z\" fill=\"none\"/>\n",
       "    <path d=\"M18.56 5.44l.94 2.06.94-2.06 2.06-.94-2.06-.94-.94-2.06-.94 2.06-2.06.94zm-11 1L8.5 8.5l.94-2.06 2.06-.94-2.06-.94L8.5 2.5l-.94 2.06-2.06.94zm10 10l.94 2.06.94-2.06 2.06-.94-2.06-.94-.94-2.06-.94 2.06-2.06.94z\"/><path d=\"M17.41 7.96l-1.37-1.37c-.4-.4-.92-.59-1.43-.59-.52 0-1.04.2-1.43.59L10.3 9.45l-7.72 7.72c-.78.78-.78 2.05 0 2.83L4 21.41c.39.39.9.59 1.41.59.51 0 1.02-.2 1.41-.59l7.78-7.78 2.81-2.81c.8-.78.8-2.07 0-2.86zM5.41 20L4 18.59l7.72-7.72 1.47 1.35L5.41 20z\"/>\n",
       "  </svg>\n",
       "      </button>\n",
       "      \n",
       "  <style>\n",
       "    .colab-df-container {\n",
       "      display:flex;\n",
       "      flex-wrap:wrap;\n",
       "      gap: 12px;\n",
       "    }\n",
       "\n",
       "    .colab-df-convert {\n",
       "      background-color: #E8F0FE;\n",
       "      border: none;\n",
       "      border-radius: 50%;\n",
       "      cursor: pointer;\n",
       "      display: none;\n",
       "      fill: #1967D2;\n",
       "      height: 32px;\n",
       "      padding: 0 0 0 0;\n",
       "      width: 32px;\n",
       "    }\n",
       "\n",
       "    .colab-df-convert:hover {\n",
       "      background-color: #E2EBFA;\n",
       "      box-shadow: 0px 1px 2px rgba(60, 64, 67, 0.3), 0px 1px 3px 1px rgba(60, 64, 67, 0.15);\n",
       "      fill: #174EA6;\n",
       "    }\n",
       "\n",
       "    [theme=dark] .colab-df-convert {\n",
       "      background-color: #3B4455;\n",
       "      fill: #D2E3FC;\n",
       "    }\n",
       "\n",
       "    [theme=dark] .colab-df-convert:hover {\n",
       "      background-color: #434B5C;\n",
       "      box-shadow: 0px 1px 3px 1px rgba(0, 0, 0, 0.15);\n",
       "      filter: drop-shadow(0px 1px 2px rgba(0, 0, 0, 0.3));\n",
       "      fill: #FFFFFF;\n",
       "    }\n",
       "  </style>\n",
       "\n",
       "      <script>\n",
       "        const buttonEl =\n",
       "          document.querySelector('#df-e86af2d1-6930-4ad4-996f-c749ffad7a94 button.colab-df-convert');\n",
       "        buttonEl.style.display =\n",
       "          google.colab.kernel.accessAllowed ? 'block' : 'none';\n",
       "\n",
       "        async function convertToInteractive(key) {\n",
       "          const element = document.querySelector('#df-e86af2d1-6930-4ad4-996f-c749ffad7a94');\n",
       "          const dataTable =\n",
       "            await google.colab.kernel.invokeFunction('convertToInteractive',\n",
       "                                                     [key], {});\n",
       "          if (!dataTable) return;\n",
       "\n",
       "          const docLinkHtml = 'Like what you see? Visit the ' +\n",
       "            '<a target=\"_blank\" href=https://colab.research.google.com/notebooks/data_table.ipynb>data table notebook</a>'\n",
       "            + ' to learn more about interactive tables.';\n",
       "          element.innerHTML = '';\n",
       "          dataTable['output_type'] = 'display_data';\n",
       "          await google.colab.output.renderOutput(dataTable, element);\n",
       "          const docLink = document.createElement('div');\n",
       "          docLink.innerHTML = docLinkHtml;\n",
       "          element.appendChild(docLink);\n",
       "        }\n",
       "      </script>\n",
       "    </div>\n",
       "  </div>\n",
       "  "
      ],
      "text/plain": [
       "           Severity     Start_Lat     Start_Lng       End_Lat       End_Lng  \\\n",
       "count  2.845342e+06  2.845342e+06  2.845342e+06  2.845342e+06  2.845342e+06   \n",
       "mean   2.137572e+00  3.624520e+01 -9.711463e+01  3.624532e+01 -9.711439e+01   \n",
       "std    4.787216e-01  5.363797e+00  1.831782e+01  5.363873e+00  1.831763e+01   \n",
       "min    1.000000e+00  2.456603e+01 -1.245481e+02  2.456601e+01 -1.245457e+02   \n",
       "25%    2.000000e+00  3.344517e+01 -1.180331e+02  3.344628e+01 -1.180333e+02   \n",
       "50%    2.000000e+00  3.609861e+01 -9.241808e+01  3.609799e+01 -9.241772e+01   \n",
       "75%    2.000000e+00  4.016024e+01 -8.037243e+01  4.016105e+01 -8.037338e+01   \n",
       "max    4.000000e+00  4.900058e+01 -6.711317e+01  4.907500e+01 -6.710924e+01   \n",
       "\n",
       "       Distance(mi)        Number  Temperature(F)  Wind_Chill(F)  \\\n",
       "count  2.845342e+06  1.101431e+06    2.776068e+06   2.375699e+06   \n",
       "mean   7.026779e-01  8.089408e+03    6.179356e+01   5.965823e+01   \n",
       "std    1.560361e+00  1.836009e+04    1.862263e+01   2.116097e+01   \n",
       "min    0.000000e+00  0.000000e+00   -8.900000e+01  -8.900000e+01   \n",
       "25%    5.200000e-02  1.270000e+03    5.000000e+01   4.600000e+01   \n",
       "50%    2.440000e-01  4.007000e+03    6.400000e+01   6.300000e+01   \n",
       "75%    7.640000e-01  9.567000e+03    7.600000e+01   7.600000e+01   \n",
       "max    1.551860e+02  9.999997e+06    1.960000e+02   1.960000e+02   \n",
       "\n",
       "        Humidity(%)  Pressure(in)  Visibility(mi)  Wind_Speed(mph)  \\\n",
       "count  2.772250e+06  2.786142e+06    2.774796e+06     2.687398e+06   \n",
       "mean   6.436545e+01  2.947234e+01    9.099391e+00     7.395044e+00   \n",
       "std    2.287457e+01  1.045286e+00    2.717546e+00     5.527454e+00   \n",
       "min    1.000000e+00  0.000000e+00    0.000000e+00     0.000000e+00   \n",
       "25%    4.800000e+01  2.931000e+01    1.000000e+01     3.500000e+00   \n",
       "50%    6.700000e+01  2.982000e+01    1.000000e+01     7.000000e+00   \n",
       "75%    8.300000e+01  3.001000e+01    1.000000e+01     1.000000e+01   \n",
       "max    1.000000e+02  5.890000e+01    1.400000e+02     1.087000e+03   \n",
       "\n",
       "       Precipitation(in)  \n",
       "count       2.295884e+06  \n",
       "mean        7.016940e-03  \n",
       "std         9.348831e-02  \n",
       "min         0.000000e+00  \n",
       "25%         0.000000e+00  \n",
       "50%         0.000000e+00  \n",
       "75%         0.000000e+00  \n",
       "max         2.400000e+01  "
      ]
     },
     "execution_count": 34,
     "metadata": {},
     "output_type": "execute_result"
    }
   ],
   "source": [
    "df.describe()             #to check the mean of the data"
   ]
  },
  {
   "cell_type": "code",
   "execution_count": 35,
   "metadata": {
    "colab": {
     "base_uri": "https://localhost:8080/"
    },
    "id": "nM2av_c2XWHc",
    "outputId": "7506f121-c4ea-4d0f-9e6c-77fe61a158d2"
   },
   "outputs": [
    {
     "data": {
      "text/plain": [
       "14"
      ]
     },
     "execution_count": 35,
     "metadata": {},
     "output_type": "execute_result"
    }
   ],
   "source": [
    "numerics = ['int16', 'int32', 'int64', 'float16', 'float32', 'float64']\n",
    "\n",
    "numeric_df = df.select_dtypes(include=numerics)             #checking the columns with numeric values\n",
    "len(numeric_df.columns)"
   ]
  },
  {
   "cell_type": "markdown",
   "metadata": {
    "id": "dLxm-aLrcijm"
   },
   "source": [
    "## Percentage of missing values per column"
   ]
  },
  {
   "cell_type": "code",
   "execution_count": 36,
   "metadata": {
    "colab": {
     "base_uri": "https://localhost:8080/"
    },
    "id": "x5QL96Hrcvkx",
    "outputId": "1416f774-4fea-42a9-c6c1-59e2f8c400b1"
   },
   "outputs": [
    {
     "data": {
      "text/plain": [
       "Number                   6.129003e-01\n",
       "Precipitation(in)        1.931079e-01\n",
       "Wind_Chill(F)            1.650568e-01\n",
       "Wind_Speed(mph)          5.550967e-02\n",
       "Wind_Direction           2.592834e-02\n",
       "Humidity(%)              2.568830e-02\n",
       "Weather_Condition        2.482514e-02\n",
       "Visibility(mi)           2.479350e-02\n",
       "Temperature(F)           2.434646e-02\n",
       "Pressure(in)             2.080593e-02\n",
       "Weather_Timestamp        1.783125e-02\n",
       "Airport_Code             3.356011e-03\n",
       "Timezone                 1.285961e-03\n",
       "Nautical_Twilight        1.007612e-03\n",
       "Civil_Twilight           1.007612e-03\n",
       "Sunrise_Sunset           1.007612e-03\n",
       "Astronomical_Twilight    1.007612e-03\n",
       "Zipcode                  4.635647e-04\n",
       "City                     4.814887e-05\n",
       "Street                   7.029032e-07\n",
       "Country                  0.000000e+00\n",
       "Junction                 0.000000e+00\n",
       "Start_Time               0.000000e+00\n",
       "End_Time                 0.000000e+00\n",
       "Start_Lat                0.000000e+00\n",
       "Turning_Loop             0.000000e+00\n",
       "Traffic_Signal           0.000000e+00\n",
       "Traffic_Calming          0.000000e+00\n",
       "Stop                     0.000000e+00\n",
       "Station                  0.000000e+00\n",
       "Roundabout               0.000000e+00\n",
       "Railway                  0.000000e+00\n",
       "No_Exit                  0.000000e+00\n",
       "Crossing                 0.000000e+00\n",
       "Give_Way                 0.000000e+00\n",
       "Bump                     0.000000e+00\n",
       "Amenity                  0.000000e+00\n",
       "Start_Lng                0.000000e+00\n",
       "End_Lat                  0.000000e+00\n",
       "End_Lng                  0.000000e+00\n",
       "Distance(mi)             0.000000e+00\n",
       "Description              0.000000e+00\n",
       "Severity                 0.000000e+00\n",
       "Side                     0.000000e+00\n",
       "County                   0.000000e+00\n",
       "State                    0.000000e+00\n",
       "ID                       0.000000e+00\n",
       "dtype: float64"
      ]
     },
     "execution_count": 36,
     "metadata": {},
     "output_type": "execute_result"
    }
   ],
   "source": [
    "missing_percentage=df.isna().sum().sort_values(ascending=False)/len(df)    #first gets in descending order & the divide by len. to get percentage\n",
    "missing_percentage"
   ]
  },
  {
   "cell_type": "code",
   "execution_count": 37,
   "metadata": {
    "colab": {
     "base_uri": "https://localhost:8080/"
    },
    "id": "8H17Mrl3bK3o",
    "outputId": "2348443e-d965-497c-dd16-be5161736eff"
   },
   "outputs": [
    {
     "data": {
      "text/plain": [
       "ID                             0\n",
       "Severity                       0\n",
       "Start_Time                     0\n",
       "End_Time                       0\n",
       "Start_Lat                      0\n",
       "Start_Lng                      0\n",
       "End_Lat                        0\n",
       "End_Lng                        0\n",
       "Distance(mi)                   0\n",
       "Description                    0\n",
       "Number                   1743911\n",
       "Street                         2\n",
       "Side                           0\n",
       "City                         137\n",
       "County                         0\n",
       "State                          0\n",
       "Zipcode                     1319\n",
       "Country                        0\n",
       "Timezone                    3659\n",
       "Airport_Code                9549\n",
       "Weather_Timestamp          50736\n",
       "Temperature(F)             69274\n",
       "Wind_Chill(F)             469643\n",
       "Humidity(%)                73092\n",
       "Pressure(in)               59200\n",
       "Visibility(mi)             70546\n",
       "Wind_Direction             73775\n",
       "Wind_Speed(mph)           157944\n",
       "Precipitation(in)         549458\n",
       "Weather_Condition          70636\n",
       "Amenity                        0\n",
       "Bump                           0\n",
       "Crossing                       0\n",
       "Give_Way                       0\n",
       "Junction                       0\n",
       "No_Exit                        0\n",
       "Railway                        0\n",
       "Roundabout                     0\n",
       "Station                        0\n",
       "Stop                           0\n",
       "Traffic_Calming                0\n",
       "Traffic_Signal                 0\n",
       "Turning_Loop                   0\n",
       "Sunrise_Sunset              2867\n",
       "Civil_Twilight              2867\n",
       "Nautical_Twilight           2867\n",
       "Astronomical_Twilight       2867\n",
       "dtype: int64"
      ]
     },
     "execution_count": 37,
     "metadata": {},
     "output_type": "execute_result"
    }
   ],
   "source": [
    "df.isna().sum()               #checking the null values"
   ]
  },
  {
   "cell_type": "code",
   "execution_count": 38,
   "metadata": {
    "colab": {
     "base_uri": "https://localhost:8080/"
    },
    "id": "CZCU1emBeKtA",
    "outputId": "f51f06e9-d8df-44f9-c511-7c6f0097cb37"
   },
   "outputs": [
    {
     "data": {
      "text/plain": [
       "pandas.core.series.Series"
      ]
     },
     "execution_count": 38,
     "metadata": {},
     "output_type": "execute_result"
    }
   ],
   "source": [
    "type(missing_percentage)"
   ]
  },
  {
   "cell_type": "code",
   "execution_count": 39,
   "metadata": {
    "colab": {
     "base_uri": "https://localhost:8080/"
    },
    "id": "_OS8Nl5ZehCw",
    "outputId": "264c2d7b-b771-41b3-923c-5d9b5c4a3a4d"
   },
   "outputs": [
    {
     "data": {
      "text/plain": [
       "Number                   6.129003e-01\n",
       "Precipitation(in)        1.931079e-01\n",
       "Wind_Chill(F)            1.650568e-01\n",
       "Wind_Speed(mph)          5.550967e-02\n",
       "Wind_Direction           2.592834e-02\n",
       "Humidity(%)              2.568830e-02\n",
       "Weather_Condition        2.482514e-02\n",
       "Visibility(mi)           2.479350e-02\n",
       "Temperature(F)           2.434646e-02\n",
       "Pressure(in)             2.080593e-02\n",
       "Weather_Timestamp        1.783125e-02\n",
       "Airport_Code             3.356011e-03\n",
       "Timezone                 1.285961e-03\n",
       "Nautical_Twilight        1.007612e-03\n",
       "Civil_Twilight           1.007612e-03\n",
       "Sunrise_Sunset           1.007612e-03\n",
       "Astronomical_Twilight    1.007612e-03\n",
       "Zipcode                  4.635647e-04\n",
       "City                     4.814887e-05\n",
       "Street                   7.029032e-07\n",
       "dtype: float64"
      ]
     },
     "execution_count": 39,
     "metadata": {},
     "output_type": "execute_result"
    }
   ],
   "source": [
    "missing_percentage[missing_percentage!=0]      #Excluding column results with 0 values"
   ]
  },
  {
   "cell_type": "code",
   "execution_count": null,
   "metadata": {
    "id": "1_O8vNDeXV5H"
   },
   "outputs": [],
   "source": [
    "## Plotting a graph\n"
   ]
  },
  {
   "cell_type": "code",
   "execution_count": 40,
   "metadata": {
    "colab": {
     "base_uri": "https://localhost:8080/",
     "height": 283
    },
    "id": "NrRgsxtRd8it",
    "outputId": "80446a23-3ea2-4b85-b356-25b076353736"
   },
   "outputs": [
    {
     "data": {
      "text/plain": [
       "<matplotlib.axes._subplots.AxesSubplot at 0x7fdbfd0681c0>"
      ]
     },
     "execution_count": 40,
     "metadata": {},
     "output_type": "execute_result"
    },
    {
     "data": {
      "image/png": "[encoded data removed]",
      "text/plain": [
       "<Figure size 432x288 with 1 Axes>"
      ]
     },
     "metadata": {
      "needs_background": "light"
     },
     "output_type": "display_data"
    }
   ],
   "source": [
    "missing_percentage[missing_percentage!=0].plot(kind='barh')"
   ]
  },
  {
   "cell_type": "markdown",
   "metadata": {
    "id": "2oboO108f6xg"
   },
   "source": [
    "## Remove Columns that you don't want to use"
   ]
  },
  {
   "cell_type": "code",
   "execution_count": 41,
   "metadata": {
    "colab": {
     "base_uri": "https://localhost:8080/",
     "height": 283
    },
    "id": "XKYIMI2vd8bO",
    "outputId": "0fbd3c62-9cc6-4e24-fdcc-be765151ab89"
   },
   "outputs": [
    {
     "data": {
      "text/plain": [
       "<matplotlib.axes._subplots.AxesSubplot at 0x7fdbfcc3abe0>"
      ]
     },
     "execution_count": 41,
     "metadata": {},
     "output_type": "execute_result"
    },
    {
     "data": {
      "image/png": "[encoded data removed]",
      "text/plain": [
       "<Figure size 432x288 with 1 Axes>"
      ]
     },
     "metadata": {
      "needs_background": "light"
     },
     "output_type": "display_data"
    }
   ],
   "source": [
    "df2=missing_percentage[missing_percentage!=0].drop('Civil_Twilight')\n",
    "df2.plot(kind='barh')\n"
   ]
  },
  {
   "cell_type": "code",
   "execution_count": 41,
   "metadata": {
    "id": "j7Ljc2ophQH6"
   },
   "outputs": [],
   "source": []
  },
  {
   "cell_type": "code",
   "execution_count": 41,
   "metadata": {
    "id": "i9CtBhwjhQEI"
   },
   "outputs": [],
   "source": []
  },
  {
   "cell_type": "code",
   "execution_count": 41,
   "metadata": {
    "id": "vlr0MSNShQB9"
   },
   "outputs": [],
   "source": []
  },
  {
   "cell_type": "markdown",
   "metadata": {
    "id": "bx2FyQXl2_sK"
   },
   "source": [
    "##Exploratory Analysis & Visualisation\n",
    "\n",
    "\n",
    "1.    City\n",
    "2.    Start Time\n",
    "3.    Start_lat, Start Lang\n",
    "4.    Temperture\n",
    "5.    weather condition\n",
    "\n"
   ]
  },
  {
   "cell_type": "code",
   "execution_count": 42,
   "metadata": {
    "colab": {
     "base_uri": "https://localhost:8080/"
    },
    "id": "gI3mpH242Yoo",
    "outputId": "bc7812a0-b7dc-4d2c-ce8a-6a418ecc6458"
   },
   "outputs": [
    {
     "data": {
      "text/plain": [
       "Index(['ID', 'Severity', 'Start_Time', 'End_Time', 'Start_Lat', 'Start_Lng',\n",
       "       'End_Lat', 'End_Lng', 'Distance(mi)', 'Description', 'Number', 'Street',\n",
       "       'Side', 'City', 'County', 'State', 'Zipcode', 'Country', 'Timezone',\n",
       "       'Airport_Code', 'Weather_Timestamp', 'Temperature(F)', 'Wind_Chill(F)',\n",
       "       'Humidity(%)', 'Pressure(in)', 'Visibility(mi)', 'Wind_Direction',\n",
       "       'Wind_Speed(mph)', 'Precipitation(in)', 'Weather_Condition', 'Amenity',\n",
       "       'Bump', 'Crossing', 'Give_Way', 'Junction', 'No_Exit', 'Railway',\n",
       "       'Roundabout', 'Station', 'Stop', 'Traffic_Calming', 'Traffic_Signal',\n",
       "       'Turning_Loop', 'Sunrise_Sunset', 'Civil_Twilight', 'Nautical_Twilight',\n",
       "       'Astronomical_Twilight'],\n",
       "      dtype='object')"
      ]
     },
     "execution_count": 42,
     "metadata": {},
     "output_type": "execute_result"
    }
   ],
   "source": [
    "df.columns"
   ]
  },
  {
   "cell_type": "markdown",
   "metadata": {
    "id": "0iCvi4vZw9_j"
   },
   "source": [
    "## City\n"
   ]
  },
  {
   "cell_type": "code",
   "execution_count": 43,
   "metadata": {
    "colab": {
     "base_uri": "https://localhost:8080/"
    },
    "id": "5lu48bzaw4CI",
    "outputId": "1c8f2b94-5c15-4889-a33b-ad321fda29bd"
   },
   "outputs": [
    {
     "data": {
      "text/plain": [
       "0               Dublin\n",
       "1               Dayton\n",
       "2           Cincinnati\n",
       "3                Akron\n",
       "4           Cincinnati\n",
       "              ...     \n",
       "2845337      Riverside\n",
       "2845338      San Diego\n",
       "2845339         Orange\n",
       "2845340    Culver City\n",
       "2845341       Highland\n",
       "Name: City, Length: 2845342, dtype: object"
      ]
     },
     "execution_count": 43,
     "metadata": {},
     "output_type": "execute_result"
    }
   ],
   "source": [
    "df.City"
   ]
  },
  {
   "cell_type": "code",
   "execution_count": 44,
   "metadata": {
    "colab": {
     "base_uri": "https://localhost:8080/"
    },
    "id": "9fxS43_v2Ybe",
    "outputId": "108738a7-3cd6-4bff-cf1f-0db2a820a4f2"
   },
   "outputs": [
    {
     "data": {
      "text/plain": [
       "11682"
      ]
     },
     "execution_count": 44,
     "metadata": {},
     "output_type": "execute_result"
    }
   ],
   "source": [
    "cities=df.City.unique()        #Unique cities\n",
    "len(cities)"
   ]
  },
  {
   "cell_type": "code",
   "execution_count": 45,
   "metadata": {
    "colab": {
     "base_uri": "https://localhost:8080/"
    },
    "id": "MSvZr3sGkCIU",
    "outputId": "d9c55fe8-b56c-4b45-d5ab-29d204bad955"
   },
   "outputs": [
    {
     "data": {
      "text/plain": [
       "Miami                           106966\n",
       "Los Angeles                      68956\n",
       "Orlando                          54691\n",
       "Dallas                           41979\n",
       "Houston                          39448\n",
       "                                 ...  \n",
       "Ridgedale                            1\n",
       "Sekiu                                1\n",
       "Wooldridge                           1\n",
       "Bullock                              1\n",
       "American Fork-Pleasant Grove         1\n",
       "Name: City, Length: 11681, dtype: int64"
      ]
     },
     "execution_count": 45,
     "metadata": {},
     "output_type": "execute_result"
    }
   ],
   "source": [
    "cities_by_accident=df.City.value_counts()    #returns no of accidents by city wise in descending order\n",
    "cities_by_accident"
   ]
  },
  {
   "cell_type": "code",
   "execution_count": 46,
   "metadata": {
    "colab": {
     "base_uri": "https://localhost:8080/"
    },
    "id": "4ZAOtcN1kCGZ",
    "outputId": "635caec8-6e8b-413d-821d-a65420ece069"
   },
   "outputs": [
    {
     "data": {
      "text/plain": [
       "Miami           106966\n",
       "Los Angeles      68956\n",
       "Orlando          54691\n",
       "Dallas           41979\n",
       "Houston          39448\n",
       "Charlotte        33152\n",
       "Sacramento       32559\n",
       "San Diego        26627\n",
       "Raleigh          22840\n",
       "Minneapolis      22768\n",
       "Portland         20944\n",
       "Nashville        20267\n",
       "Austin           18301\n",
       "Baton Rouge      18182\n",
       "Phoenix          17143\n",
       "Saint Paul       16869\n",
       "New Orleans      16251\n",
       "Atlanta          15622\n",
       "Jacksonville     14967\n",
       "Richmond         14349\n",
       "Name: City, dtype: int64"
      ]
     },
     "execution_count": 46,
     "metadata": {},
     "output_type": "execute_result"
    }
   ],
   "source": [
    "cities_by_accident[:20]"
   ]
  },
  {
   "cell_type": "code",
   "execution_count": 47,
   "metadata": {
    "colab": {
     "base_uri": "https://localhost:8080/"
    },
    "id": "AjvcvDaXkCEG",
    "outputId": "120066e5-1ccf-4c4d-eee6-82e16a2dcdf1"
   },
   "outputs": [
    {
     "data": {
      "text/plain": [
       "False"
      ]
     },
     "execution_count": 47,
     "metadata": {},
     "output_type": "execute_result"
    }
   ],
   "source": [
    "'New York' in df.State"
   ]
  },
  {
   "cell_type": "code",
   "execution_count": 48,
   "metadata": {
    "colab": {
     "base_uri": "https://localhost:8080/",
     "height": 283
    },
    "id": "w14sne5UkCA9",
    "outputId": "2923b6c3-5525-4a10-9004-b5d618179044"
   },
   "outputs": [
    {
     "data": {
      "text/plain": [
       "<matplotlib.axes._subplots.AxesSubplot at 0x7fdbfc8b00a0>"
      ]
     },
     "execution_count": 48,
     "metadata": {},
     "output_type": "execute_result"
    },
    {
     "data": {
      "image/png": "[encoded data removed]",
      "text/plain": [
       "<Figure size 432x288 with 1 Axes>"
      ]
     },
     "metadata": {
      "needs_background": "light"
     },
     "output_type": "display_data"
    }
   ],
   "source": [
    "cities_by_accident[:20].plot(kind='barh')           #ploting graph of 20 cities"
   ]
  },
  {
   "cell_type": "code",
   "execution_count": 49,
   "metadata": {
    "id": "-QBM1O26kB-a"
   },
   "outputs": [],
   "source": [
    "import seaborn as sns                 #distribution\n",
    "sns.set_style(\"darkgrid\")"
   ]
  },
  {
   "cell_type": "code",
   "execution_count": 50,
   "metadata": {
    "colab": {
     "base_uri": "https://localhost:8080/",
     "height": 301
    },
    "id": "WIBFNvcmo6cL",
    "outputId": "ca807e68-9966-4bb8-b05e-0e973cb0ba15"
   },
   "outputs": [
    {
     "data": {
      "text/plain": [
       "<matplotlib.axes._subplots.AxesSubplot at 0x7fdbf507a5e0>"
      ]
     },
     "execution_count": 50,
     "metadata": {},
     "output_type": "execute_result"
    },
    {
     "data": {
      "image/png": "[encoded data removed]",
      "text/plain": [
       "<Figure size 432x288 with 1 Axes>"
      ]
     },
     "metadata": {},
     "output_type": "display_data"
    }
   ],
   "source": [
    "sns.histplot(cities_by_accident, log_scale=True)"
   ]
  },
  {
   "cell_type": "code",
   "execution_count": 51,
   "metadata": {
    "colab": {
     "base_uri": "https://localhost:8080/"
    },
    "id": "FH1sEWu4uSkN",
    "outputId": "35a013d2-4a97-434e-fc9d-ec5407817520"
   },
   "outputs": [
    {
     "data": {
      "text/plain": [
       "Carney                          1\n",
       "Waverly Hall                    1\n",
       "Center Sandwich                 1\n",
       "Glen Flora                      1\n",
       "Sulphur Springs                 1\n",
       "                               ..\n",
       "Ridgedale                       1\n",
       "Sekiu                           1\n",
       "Wooldridge                      1\n",
       "Bullock                         1\n",
       "American Fork-Pleasant Grove    1\n",
       "Name: City, Length: 1110, dtype: int64"
      ]
     },
     "execution_count": 51,
     "metadata": {},
     "output_type": "execute_result"
    }
   ],
   "source": [
    "cities_by_accident[cities_by_accident ==1]"
   ]
  },
  {
   "cell_type": "code",
   "execution_count": null,
   "metadata": {
    "id": "H3rxpz_iuSQQ"
   },
   "outputs": [],
   "source": []
  },
  {
   "cell_type": "code",
   "execution_count": 52,
   "metadata": {
    "id": "U1C4XS9oo6Oy"
   },
   "outputs": [],
   "source": [
    "high_accident_citis= cities_by_accident[cities_by_accident>=1000]\n",
    "low_accident_cities = cities_by_accident[cities_by_accident<1000]"
   ]
  },
  {
   "cell_type": "code",
   "execution_count": 53,
   "metadata": {
    "colab": {
     "base_uri": "https://localhost:8080/"
    },
    "id": "iVVPFUXMo6AG",
    "outputId": "393dc2cc-98df-4801-95db-5fcc37a513ac"
   },
   "outputs": [
    {
     "data": {
      "text/plain": [
       "0.04245848313644924"
      ]
     },
     "execution_count": 53,
     "metadata": {},
     "output_type": "execute_result"
    }
   ],
   "source": [
    "len(high_accident_citis)/len(cities)"
   ]
  },
  {
   "cell_type": "code",
   "execution_count": 54,
   "metadata": {
    "colab": {
     "base_uri": "https://localhost:8080/",
     "height": 354
    },
    "id": "BDjl-w3Io59C",
    "outputId": "ba183e08-c0b0-4b46-98ea-af719f0f050b"
   },
   "outputs": [
    {
     "name": "stderr",
     "output_type": "stream",
     "text": [
      "/usr/local/lib/python3.8/dist-packages/seaborn/distributions.py:2619: FutureWarning: `distplot` is a deprecated function and will be removed in a future version. Please adapt your code to use either `displot` (a figure-level function with similar flexibility) or `histplot` (an axes-level function for histograms).\n",
      "  warnings.warn(msg, FutureWarning)\n"
     ]
    },
    {
     "data": {
      "text/plain": [
       "<matplotlib.axes._subplots.AxesSubplot at 0x7fdbf4e004f0>"
      ]
     },
     "execution_count": 54,
     "metadata": {},
     "output_type": "execute_result"
    },
    {
     "data": {
      "image/png": "[encoded data removed]",
      "text/plain": [
       "<Figure size 432x288 with 1 Axes>"
      ]
     },
     "metadata": {},
     "output_type": "display_data"
    }
   ],
   "source": [
    "sns.distplot(high_accident_citis)"
   ]
  },
  {
   "cell_type": "code",
   "execution_count": 55,
   "metadata": {
    "colab": {
     "base_uri": "https://localhost:8080/",
     "height": 354
    },
    "id": "U3c_q6PW3Mui",
    "outputId": "0b5b4eb5-63c3-4794-c387-0abc7530bde3"
   },
   "outputs": [
    {
     "name": "stderr",
     "output_type": "stream",
     "text": [
      "/usr/local/lib/python3.8/dist-packages/seaborn/distributions.py:2619: FutureWarning: `distplot` is a deprecated function and will be removed in a future version. Please adapt your code to use either `displot` (a figure-level function with similar flexibility) or `histplot` (an axes-level function for histograms).\n",
      "  warnings.warn(msg, FutureWarning)\n"
     ]
    },
    {
     "data": {
      "text/plain": [
       "<matplotlib.axes._subplots.AxesSubplot at 0x7fdbf4cf95e0>"
      ]
     },
     "execution_count": 55,
     "metadata": {},
     "output_type": "execute_result"
    },
    {
     "data": {
      "image/png": "[encoded data removed]",
      "text/plain": [
       "<Figure size 432x288 with 1 Axes>"
      ]
     },
     "metadata": {},
     "output_type": "display_data"
    }
   ],
   "source": [
    "sns.distplot(low_accident_cities)"
   ]
  },
  {
   "cell_type": "markdown",
   "metadata": {
    "id": "XKuSwdHFxMwi"
   },
   "source": [
    "## Start Time"
   ]
  },
  {
   "cell_type": "code",
   "execution_count": null,
   "metadata": {
    "id": "p-AdjGAhsjfQ"
   },
   "outputs": [],
   "source": [
    "df.Start_Time"
   ]
  },
  {
   "cell_type": "code",
   "execution_count": null,
   "metadata": {
    "id": "CKZZIuzIsjM7"
   },
   "outputs": [],
   "source": [
    "df.Start_Time=pd.to_datetime(df.Start_Time)       #to convert into timestamps"
   ]
  },
  {
   "cell_type": "code",
   "execution_count": null,
   "metadata": {
    "id": "syW41lJAxxKK"
   },
   "outputs": [],
   "source": [
    "df.Start_Time[0]            #sample of timestamp"
   ]
  },
  {
   "cell_type": "markdown",
   "metadata": {
    "id": "bknMSoLLtNpW"
   },
   "source": [
    "--A high %age of accidents occured between 6-10am(becoz of people going to work)\n",
    "--Another high %age is between 12-6pm"
   ]
  },
  {
   "cell_type": "code",
   "execution_count": null,
   "metadata": {
    "id": "oG9O954HxxIA"
   },
   "outputs": [],
   "source": [
    "sns.distplot(df.Start_Time.dt.hour,kde=False,bins=24,norm_hist=True)   #graph for whch part of day has highest accideents.norm_hist for percentage of accidents"
   ]
  },
  {
   "cell_type": "markdown",
   "metadata": {
    "id": "RE7vUwh8vMus"
   },
   "source": [
    "Is the distibution of accidents by hour the same on weekends as on weedays"
   ]
  },
  {
   "cell_type": "code",
   "execution_count": null,
   "metadata": {
    "id": "ZWUXh6anxxFr"
   },
   "outputs": [],
   "source": [
    "sns.distplot(df.Start_Time.dt.dayofweek,kde=False,bins=7,norm_hist=True)   #accidents day wise (Mon=0,Sunday=6)"
   ]
  },
  {
   "cell_type": "code",
   "execution_count": null,
   "metadata": {
    "id": "-JG1NTKVxxAF"
   },
   "outputs": [],
   "source": [
    "sundays_start_time = df.Start_Time[df.Start_Time.dt.dayofweek==6]           #Distribution of Sundays\n",
    "sns.distplot(sundays_start_time.dt.hour,kde=False,bins=24,norm_hist=True)\n"
   ]
  },
  {
   "cell_type": "markdown",
   "metadata": {
    "id": "dqokWRMazU1n"
   },
   "source": [
    "On Sundays accidents are high between 10am-8pm"
   ]
  },
  {
   "cell_type": "code",
   "execution_count": null,
   "metadata": {
    "id": "G9Qh802Zxw67"
   },
   "outputs": [],
   "source": [
    "mondays_start_time = df.Start_Time[df.Start_Time.dt.dayofweek==0]           #Distribution of Mondays\n",
    "sns.distplot(mondays_start_time.dt.hour,kde=False,bins=24,norm_hist=True)"
   ]
  },
  {
   "cell_type": "code",
   "execution_count": null,
   "metadata": {
    "id": "nAy4RFkjxw4U"
   },
   "outputs": [],
   "source": [
    "sns.distplot(df.Start_Time.dt.month,kde=False,bins=12,norm_hist=True)       #accidents in Month wise"
   ]
  },
  {
   "cell_type": "markdown",
   "metadata": {
    "id": "THgBP9ot0L-c"
   },
   "source": [
    "--Can u explain the monthwise trend?\n",
    "\n",
    "Ans:- Much data is missing in the year 2020 & it ranges from year on year"
   ]
  },
  {
   "cell_type": "code",
   "execution_count": null,
   "metadata": {
    "id": "8nWsu0SOxw1u"
   },
   "outputs": [],
   "source": [
    "df_2020=df[df.Start_Time.dt.year==2021]\n",
    "sns.distplot(df_2020.Start_Time.dt.month,kde=False,bins=12,norm_hist=True)"
   ]
  },
  {
   "cell_type": "code",
   "execution_count": null,
   "metadata": {
    "id": "ayGJuf3P283S"
   },
   "outputs": [],
   "source": []
  },
  {
   "cell_type": "code",
   "execution_count": null,
   "metadata": {
    "id": "S7XQZR1o28pu"
   },
   "outputs": [],
   "source": []
  },
  {
   "cell_type": "code",
   "execution_count": null,
   "metadata": {
    "id": "smUiC3Bsxwwc"
   },
   "outputs": [],
   "source": []
  },
  {
   "cell_type": "code",
   "execution_count": null,
   "metadata": {
    "id": "ZgqkEDatsjJ8"
   },
   "outputs": [],
   "source": []
  },
  {
   "cell_type": "markdown",
   "metadata": {
    "id": "ov7Lcczd3PBy"
   },
   "source": [
    "##Ask & Answer questions\n",
    "\n",
    "\n",
    "1.   Which areas have more accidents Warmer or Colder Areas\n",
    "2.   Which 5 states have higher number of accidents? \n",
    "     How about per capita?\n",
    "3.  Does NY is in data?if yes why does not show it being the most populous city in USA.\n",
    "4.   Among top 100 cities which states they belong to frequently?\n",
    "5. What time of day accidents are frequent?\n",
    "6. Which days of week have more accidents?\n",
    "7. Which months have more accidents?\n",
    "8. What is the trend of accidents year over year(decresing/increasing).\n",
    "9. When is accidents per unit of traffic the highest \n",
    "\n"
   ]
  },
  {
   "cell_type": "markdown",
   "metadata": {
    "id": "zcRz0zmT3pC6"
   },
   "source": [
    "## Start Latitude & Start Longitude"
   ]
  },
  {
   "cell_type": "code",
   "execution_count": 66,
   "metadata": {
    "colab": {
     "base_uri": "https://localhost:8080/"
    },
    "id": "rJ41Y9-t3Nb1",
    "outputId": "3674f692-70d8-4d42-ee9a-991993a38a00"
   },
   "outputs": [
    {
     "data": {
      "text/plain": [
       "0          40.108910\n",
       "1          39.865420\n",
       "2          39.102660\n",
       "3          41.062130\n",
       "4          39.172393\n",
       "             ...    \n",
       "2845337    34.002480\n",
       "2845338    32.766960\n",
       "2845339    33.775450\n",
       "2845340    33.992460\n",
       "2845341    34.133930\n",
       "Name: Start_Lat, Length: 2845342, dtype: float64"
      ]
     },
     "execution_count": 66,
     "metadata": {},
     "output_type": "execute_result"
    }
   ],
   "source": [
    "df.Start_Lat"
   ]
  },
  {
   "cell_type": "code",
   "execution_count": 67,
   "metadata": {
    "colab": {
     "base_uri": "https://localhost:8080/"
    },
    "id": "OQau5rd63NYS",
    "outputId": "08002ad0-a23d-43f4-dbaa-0025c3ad8751"
   },
   "outputs": [
    {
     "data": {
      "text/plain": [
       "0          -83.092860\n",
       "1          -84.062800\n",
       "2          -84.524680\n",
       "3          -81.537840\n",
       "4          -84.492792\n",
       "              ...    \n",
       "2845337   -117.379360\n",
       "2845338   -117.148060\n",
       "2845339   -117.847790\n",
       "2845340   -118.403020\n",
       "2845341   -117.230920\n",
       "Name: Start_Lng, Length: 2845342, dtype: float64"
      ]
     },
     "execution_count": 67,
     "metadata": {},
     "output_type": "execute_result"
    }
   ],
   "source": [
    "df.Start_Lng"
   ]
  },
  {
   "cell_type": "code",
   "execution_count": 67,
   "metadata": {
    "id": "ASLmbma-7HjQ"
   },
   "outputs": [],
   "source": []
  },
  {
   "cell_type": "code",
   "execution_count": 68,
   "metadata": {
    "colab": {
     "base_uri": "https://localhost:8080/",
     "height": 300
    },
    "id": "6mkX59ON38wF",
    "outputId": "19f51128-5b7e-4d9f-d770-2386b6917dae"
   },
   "outputs": [
    {
     "data": {
      "text/plain": [
       "<matplotlib.axes._subplots.AxesSubplot at 0x7fdbf2c383d0>"
      ]
     },
     "execution_count": 68,
     "metadata": {},
     "output_type": "execute_result"
    },
    {
     "data": {
      "image/png": "[encoded data removed]",
      "text/plain": [
       "<Figure size 432x288 with 1 Axes>"
      ]
     },
     "metadata": {},
     "output_type": "display_data"
    }
   ],
   "source": [
    "sns.scatterplot(x=df.Start_Lng,y=df.Start_Lat)         #Plotiing graph latitude & longitude wises scattered graph "
   ]
  },
  {
   "cell_type": "code",
   "execution_count": 69,
   "metadata": {
    "id": "wJtdf8z17W5y"
   },
   "outputs": [],
   "source": [
    "sample_df=df.sample(int(0.1 * len(df)))"
   ]
  },
  {
   "cell_type": "code",
   "execution_count": 70,
   "metadata": {
    "colab": {
     "base_uri": "https://localhost:8080/",
     "height": 300
    },
    "id": "o-2D0wXv38lO",
    "outputId": "e50dad0c-aba4-4a33-936f-07bbcb88cf9d"
   },
   "outputs": [
    {
     "data": {
      "text/plain": [
       "<matplotlib.axes._subplots.AxesSubplot at 0x7fdbf0300190>"
      ]
     },
     "execution_count": 70,
     "metadata": {},
     "output_type": "execute_result"
    },
    {
     "data": {
      "image/png": "[encoded data removed]",
      "text/plain": [
       "<Figure size 432x288 with 1 Axes>"
      ]
     },
     "metadata": {},
     "output_type": "display_data"
    }
   ],
   "source": [
    "sns.scatterplot(x=sample_df.Start_Lng,y=sample_df.Start_Lat, size=0.001) "
   ]
  },
  {
   "cell_type": "code",
   "execution_count": 71,
   "metadata": {
    "id": "oaFR_YsG38gs"
   },
   "outputs": [],
   "source": [
    "import folium"
   ]
  },
  {
   "cell_type": "code",
   "execution_count": 72,
   "metadata": {
    "colab": {
     "base_uri": "https://localhost:8080/"
    },
    "id": "wHuKhFX69UuK",
    "outputId": "2992e659-96f3-494a-897d-715b19f5b492"
   },
   "outputs": [
    {
     "data": {
      "text/plain": [
       "(39.86542, -83.09286)"
      ]
     },
     "execution_count": 72,
     "metadata": {},
     "output_type": "execute_result"
    }
   ],
   "source": [
    "lat,lon=df.Start_Lat[1] ,df.Start_Lng[0]\n",
    "lat,lon"
   ]
  },
  {
   "cell_type": "code",
   "execution_count": 73,
   "metadata": {
    "colab": {
     "base_uri": "https://localhost:8080/"
    },
    "id": "-QWsWkaMEVH9",
    "outputId": "79172584-bd5f-488f-c7a9-5a0c5b158b02"
   },
   "outputs": [
    {
     "name": "stdout",
     "output_type": "stream",
     "text": [
      "194504     43.887440\n",
      "1005373    40.722665\n",
      "214756     32.677350\n",
      "2544314    37.795600\n",
      "585924     33.431573\n",
      "             ...    \n",
      "1699064    28.143927\n",
      "263324     47.303577\n",
      "1437427    32.887298\n",
      "955128     40.040539\n",
      "812951     36.867307\n",
      "Name: Start_Lat, Length: 100, dtype: float64\n",
      "194504     -70.338410\n",
      "1005373    -73.827620\n",
      "214756     -97.055240\n",
      "2544314   -122.267220\n",
      "585924     -79.142275\n",
      "              ...    \n",
      "1699064    -81.468521\n",
      "263324    -122.232867\n",
      "1437427    -96.703885\n",
      "955128     -75.005358\n",
      "812951    -121.742242\n",
      "Name: Start_Lng, Length: 100, dtype: float64\n"
     ]
    }
   ],
   "source": [
    "for x in df[['Start_Lat','Start_Lng']].sample(100).iteritems():\n",
    "  print(x[1])"
   ]
  },
  {
   "cell_type": "code",
   "execution_count": 74,
   "metadata": {
    "colab": {
     "base_uri": "https://localhost:8080/"
    },
    "id": "zJYWq0leFKSN",
    "outputId": "18d45432-b96a-421f-ee8f-3fff99111963"
   },
   "outputs": [
    {
     "data": {
      "text/plain": [
       "<zip at 0x7fdbf02fcd80>"
      ]
     },
     "execution_count": 74,
     "metadata": {},
     "output_type": "execute_result"
    }
   ],
   "source": [
    "zip(list(df.Start_Lat),list(df.Start_Lng))"
   ]
  },
  {
   "cell_type": "code",
   "execution_count": 75,
   "metadata": {
    "id": "8ZruCh9CF6LB"
   },
   "outputs": [],
   "source": [
    "from folium.plugins import HeatMap as hp"
   ]
  },
  {
   "cell_type": "code",
   "execution_count": 76,
   "metadata": {
    "id": "E3-8Xt17GhSU"
   },
   "outputs": [],
   "source": [
    "sample_df= df.sample(int(0.001 * len(df)))\n",
    "lat_lon_pairs=list(zip(list(sample_df.Start_Lat),list(sample_df.Start_Lng)))"
   ]
  },
  {
   "cell_type": "code",
   "execution_count": 77,
   "metadata": {
    "colab": {
     "base_uri": "https://localhost:8080/",
     "height": 561
    },
    "id": "2EKXAbkl38db",
    "outputId": "ae1fa8f7-a51e-474f-c551-22e8376ccf64"
   },
   "outputs": [
    {
     "data": {
      "text/html": [
       "<div style=\"width:100%;\"><div style=\"position:relative;width:100%;height:0;padding-bottom:60%;\"><span style=\"color:#565656\">Make this Notebook Trusted to load map: File -> Trust Notebook</span><iframe srcdoc=\"&lt;!DOCTYPE html&gt;\n",
       "&lt;html&gt;\n",
       "&lt;head&gt;\n",
       "    \n",
       "    &lt;meta http-equiv=&quot;content-type&quot; content=&quot;text/html; charset=UTF-8&quot; /&gt;\n",
       "    \n",
       "        &lt;script&gt;\n",
       "            L_NO_TOUCH = false;\n",
       "            L_DISABLE_3D = false;\n",
       "        &lt;/script&gt;\n",
       "    \n",
       "    &lt;style&gt;html, body {width: 100%;height: 100%;margin: 0;padding: 0;}&lt;/style&gt;\n",
       "    &lt;style&gt;#map {position:absolute;top:0;bottom:0;right:0;left:0;}&lt;/style&gt;\n",
       "    &lt;script src=&quot;https://cdn.jsdelivr.net/npm/leaflet@1.6.0/dist/leaflet.js&quot;&gt;&lt;/script&gt;\n",
       "    &lt;script src=&quot;https://code.jquery.com/jquery-1.12.4.min.js&quot;&gt;&lt;/script&gt;\n",
       "    &lt;script src=&quot;https://maxcdn.bootstrapcdn.com/bootstrap/3.2.0/js/bootstrap.min.js&quot;&gt;&lt;/script&gt;\n",
       "    &lt;script src=&quot;https://cdnjs.cloudflare.com/ajax/libs/Leaflet.awesome-markers/2.0.2/leaflet.awesome-markers.js&quot;&gt;&lt;/script&gt;\n",
       "    &lt;link rel=&quot;stylesheet&quot; href=&quot;https://cdn.jsdelivr.net/npm/leaflet@1.6.0/dist/leaflet.css&quot;/&gt;\n",
       "    &lt;link rel=&quot;stylesheet&quot; href=&quot;https://maxcdn.bootstrapcdn.com/bootstrap/3.2.0/css/bootstrap.min.css&quot;/&gt;\n",
       "    &lt;link rel=&quot;stylesheet&quot; href=&quot;https://maxcdn.bootstrapcdn.com/bootstrap/3.2.0/css/bootstrap-theme.min.css&quot;/&gt;\n",
       "    &lt;link rel=&quot;stylesheet&quot; href=&quot;https://maxcdn.bootstrapcdn.com/font-awesome/4.6.3/css/font-awesome.min.css&quot;/&gt;\n",
       "    &lt;link rel=&quot;stylesheet&quot; href=&quot;https://cdnjs.cloudflare.com/ajax/libs/Leaflet.awesome-markers/2.0.2/leaflet.awesome-markers.css&quot;/&gt;\n",
       "    &lt;link rel=&quot;stylesheet&quot; href=&quot;https://cdn.jsdelivr.net/gh/python-visualization/folium/folium/templates/leaflet.awesome.rotate.min.css&quot;/&gt;\n",
       "    \n",
       "            &lt;meta name=&quot;viewport&quot; content=&quot;width=device-width,\n",
       "                initial-scale=1.0, maximum-scale=1.0, user-scalable=no&quot; /&gt;\n",
       "            &lt;style&gt;\n",
       "                #map_3b372affefdb60a3fdec124914d3ed42 {\n",
       "                    position: relative;\n",
       "                    width: 100.0%;\n",
       "                    height: 100.0%;\n",
       "                    left: 0.0%;\n",
       "                    top: 0.0%;\n",
       "                }\n",
       "            &lt;/style&gt;\n",
       "        \n",
       "    &lt;script src=&quot;https://cdn.jsdelivr.net/gh/python-visualization/folium@master/folium/templates/leaflet_heat.min.js&quot;&gt;&lt;/script&gt;\n",
       "&lt;/head&gt;\n",
       "&lt;body&gt;\n",
       "    \n",
       "    \n",
       "            &lt;div class=&quot;folium-map&quot; id=&quot;map_3b372affefdb60a3fdec124914d3ed42&quot; &gt;&lt;/div&gt;\n",
       "        \n",
       "&lt;/body&gt;\n",
       "&lt;script&gt;\n",
       "    \n",
       "    \n",
       "            var map_3b372affefdb60a3fdec124914d3ed42 = L.map(\n",
       "                &quot;map_3b372affefdb60a3fdec124914d3ed42&quot;,\n",
       "                {\n",
       "                    center: [0, 0],\n",
       "                    crs: L.CRS.EPSG3857,\n",
       "                    zoom: 1,\n",
       "                    zoomControl: true,\n",
       "                    preferCanvas: false,\n",
       "                }\n",
       "            );\n",
       "\n",
       "            \n",
       "\n",
       "        \n",
       "    \n",
       "            var tile_layer_2c97e31c03d2e1ee9f2a0c72a704d652 = L.tileLayer(\n",
       "                &quot;https://{s}.tile.openstreetmap.org/{z}/{x}/{y}.png&quot;,\n",
       "                {&quot;attribution&quot;: &quot;Data by \\u0026copy; \\u003ca href=\\&quot;http://openstreetmap.org\\&quot;\\u003eOpenStreetMap\\u003c/a\\u003e, under \\u003ca href=\\&quot;http://www.openstreetmap.org/copyright\\&quot;\\u003eODbL\\u003c/a\\u003e.&quot;, &quot;detectRetina&quot;: false, &quot;maxNativeZoom&quot;: 18, &quot;maxZoom&quot;: 18, &quot;minZoom&quot;: 0, &quot;noWrap&quot;: false, &quot;opacity&quot;: 1, &quot;subdomains&quot;: &quot;abc&quot;, &quot;tms&quot;: false}\n",
       "            ).addTo(map_3b372affefdb60a3fdec124914d3ed42);\n",
       "        \n",
       "    \n",
       "            var heat_map_1b0a1387f2f681add9dad12e506dd1e5 = L.heatLayer(\n",
       "                [[32.655874, -117.106402], [33.458659999999995, -112.15184], [44.588427, -123.43118], [33.779321, -117.876917], [28.00283, -82.320438], [33.712957, -112.11084], [25.921167, -80.292973], [32.626099, -117.094504], [30.35909, -92.04631], [27.98435, -82.45384], [35.0423, -85.21892199999998], [33.687816, -117.912029], [34.228015, -80.67569300000002], [33.462429, -112.128281], [34.959815, -82.305933], [35.437868, -80.869551], [39.399007, -81.408029], [40.83696, -73.878842], [38.93553, -94.70574], [33.091688, -80.031148], [35.278217, -80.807642], [37.945173, -122.055512], [30.431076, -91.05324], [41.87587, -87.67305999999998], [33.876371, -118.077666], [43.188019, -75.72624300000003], [43.16458400000001, -77.71159200000002], [47.619047, -122.1889], [42.46118, -83.10597], [37.635501, -77.574709], [34.113327000000005, -117.823948], [41.165975, -112.026032], [30.265263, -97.736488], [37.895226, -122.308246], [25.95802, -80.17108], [33.80754, -118.20714], [39.710158, -75.587149], [34.07205, -117.61388999999998], [38.83319, -77.10279], [37.053847, -121.660065], [45.50445, -122.455], [37.31048, -121.94047], [26.491515000000003, -81.78729], [34.028473, -118.209078], [38.083385, -122.114304], [30.271943, -82.963673], [34.445964000000004, -82.620293], [43.04833, -76.14245], [29.94265, -90.09469], [38.86183, -77.307506], [34.021421000000004, -118.245176], [34.067633, -117.981703], [45.109383, -93.391681], [42.07343, -72.58610999999998], [30.166423, -81.555482], [40.31789000000001, -74.654545], [44.23351, -94.42975], [32.489164, -85.632345], [36.843515, -76.141759], [43.833942, -94.699753], [39.38257, -104.86059], [35.099638, -118.143932], [25.769715, -80.33499599999998], [39.97426, -76.68008], [27.96617800000001, -82.7088], [41.097789, -73.799747], [33.358252, -80.476665], [42.49339000000001, -82.96958000000002], [40.86473, -74.01534000000002], [33.758574, -78.96175799999997], [43.01841, -78.18892], [28.537651, -81.47573299999998], [36.633712, -119.520497], [38.335272, -121.112542], [36.092121, -95.771162], [28.546661, -81.20830699999998], [43.833098, -95.074547], [41.58473, -87.23521], [34.16509, -118.47521], [33.461553, -112.079875], [37.759324, -122.104967], [33.174042, -117.22571299999998], [38.521081, -78.776983], [29.766663, -95.455862], [44.3447, -93.322777], [34.087195, -117.664149], [45.13601, -93.24189], [40.08596, -75.258002], [40.682802, -74.339037], [36.888045, -76.228661], [43.35152, -123.32838999999998], [34.248343, -84.467235], [40.860031, -73.915253], [39.883521, -75.103717], [42.605553, -88.7189], [30.239896, -97.724164], [28.265362, -81.43610600000002], [32.818143, -117.160495], [42.745023, -123.371304], [35.97101400000001, -87.531596], [30.026290000000003, -90.00933], [37.55176, -77.48316], [44.927241, -93.349545], [37.89333900000001, -77.416585], [25.811566, -80.370885], [27.21599, -81.85849], [39.95686, -75.14426999999998], [32.97065300000001, -117.249458], [32.67577, -97.01186], [33.609790000000004, -84.39609], [33.92494, -118.210505], [36.947152, -76.404725], [34.03006, -118.44154], [37.54886, -77.44733000000002], [38.012984, -121.871756], [41.79903, -83.45862], [44.895698, -93.247445], [27.441648, -82.471641], [27.98192, -82.326169], [29.840253000000004, -95.413297], [28.304436, -81.40659699999998], [45.2949, -118.03802], [40.02035, -78.185073], [34.018622, -117.743925], [43.23099000000001, -77.252077], [26.496462, -81.84774], [30.603459, -87.148832], [45.05334000000001, -123.49694], [41.619933, -72.683562], [41.454774, -73.23875699999998], [27.269216, -82.456136], [45.569295, -94.141667], [42.06647, -88.15049], [30.39767800000001, -81.562467], [26.627879, -80.06731500000002], [35.652011, -117.763129], [33.998075, -118.369534], [33.820692, -84.166656], [34.862635, -82.605666], [30.304211, -85.53716999999997], [42.194197, -123.650194], [39.573857, -106.245596], [39.78566, -105.0832], [41.56729, -87.32330999999998], [25.705233, -80.414741], [33.901070000000004, -117.46963], [41.497235, -95.117951], [44.89317, -93.27552], [38.605809, -121.43281], [29.817497, -95.376952], [37.444252, -122.269119], [39.3815, -76.73791], [33.757459999999995, -117.85714], [25.578347, -80.369697], [39.74759, -94.82463], [39.925859, -122.160059], [38.015774, -77.499371], [33.874168, -117.88071], [35.834065, -78.67267700000002], [34.149528000000004, -117.909582], [33.94325300000001, -118.028119], [32.734171, -96.683984], [45.299602, -93.805979], [32.777358, -97.473203], [33.84061, -117.24972], [35.008998, -85.23817], [38.497118, -121.409046], [42.927612, -85.66967], [33.984504, -118.441534], [45.01003, -93.17635], [30.222433, -81.514145], [32.787112, -117.114131], [34.710888, -82.500976], [27.954443, -82.50639], [47.825646, -104.078871], [30.191577, -81.710482], [45.531173, -122.686847], [36.144156, -86.73865699999998], [33.871259, -118.275385], [39.58446, -77.63638], [44.365136, -121.618917], [32.719471, -96.828136], [32.869787, -96.53313], [33.909631, -84.477988], [45.555651, -122.67851], [40.767247, -73.695525], [39.420887, -76.644369], [40.758828, -111.93903], [36.833403, -76.433688], [45.51564000000001, -122.69931], [28.451575, -81.333492], [34.521093, -117.98658799999998], [35.893541, -78.560478], [39.72575, -122.823979], [42.546733, -71.286345], [25.905338, -80.324104], [32.220876000000004, -110.825058], [45.693754, -121.330143], [34.226822, -118.379404], [40.714355, -112.241274], [26.554282, -80.172839], [29.758825, -95.411599], [36.159904, -86.773873], [41.57405900000001, -87.47357099999998], [26.273997, -80.125197], [40.634317, -74.295456], [44.612077, -112.495504], [47.80655, -92.26387], [25.897036, -80.249724], [33.014821999999995, -117.269911], [35.66936, -77.95803000000002], [39.94751, -74.960374], [42.306188, -88.02891], [33.91369, -118.11368], [35.002327, -85.280837], [33.989649, -117.280557], [42.35948, -87.8644], [25.717076, -80.330822], [33.506225, -117.160475], [34.226587, -118.387878], [37.798678, -122.275575], [44.836973, -93.398298], [28.572495, -81.37625200000002], [32.3231, -111.0123], [34.758102, -82.39111199999998], [30.042466, -89.968882], [36.984181, -119.65962], [26.736749, -80.091065], [34.310575, -77.778256], [34.398242, -82.417991], [37.166973, -93.316079], [29.935266, -90.10307], [38.56338, -121.49159], [45.57745, -122.76167], [40.58776, -111.94497], [25.893184, -80.235187], [33.934455, -118.227945], [33.55819, -112.11347], [34.843021, -82.28248], [37.739473, -121.590146], [33.81521, -117.91545], [35.002339, -85.11443299999998], [44.919576, -93.06468], [28.640756, -81.41543], [44.555751, -123.058472], [32.82612, -83.67747], [28.093507, -82.739476], [39.27599, -84.34398], [42.48568, -83.273584], [42.368911, -83.216433], [34.214137, -80.98344499999997], [35.20882, -80.67295], [30.202149, -97.770666], [34.06974, -117.57595], [34.11145, -117.52619], [40.706971, -111.90363], [40.458673, -122.298297], [37.16841, -113.40375], [33.968971, -118.372467], [38.62406, -121.41761], [40.092169, -77.41235999999998], [35.81492100000001, -78.605372], [34.202327000000004, -118.340437], [45.619754, -123.399061], [41.75773, -87.88269], [41.630126, -72.876638], [40.76455900000001, -73.89489499999998], [40.205081, -77.306749], [46.759016, -112.018456], [47.85318, -122.2552], [37.51591, -120.45298], [40.110629, -82.98034799999998], [37.880678, -122.047121], [38.615917, -121.539405], [30.19674, -81.55615], [43.028274, -87.969029], [35.035958, -118.105144], [37.739785, -121.590682], [41.647592, -108.681617], [25.733059, -80.317751], [36.88392, -119.97989], [38.95072, -121.051888], [35.85104699999999, -78.58078], [33.526821000000005, -81.93973299999998], [44.60732, -121.138945], [28.442079, -81.40321999999998], [45.513277, -122.66801], [33.963927000000005, -117.30593600000002], [36.42965, -120.1031], [45.208214, -122.937752], [43.049352, -88.34678000000002], [34.063966, -81.138661], [42.64565, -84.47851], [33.850437, -117.254319], [32.123165, -110.926024], [37.782148, -121.530841], [32.443353, -93.714865], [38.496158, -121.429183], [44.395204, -122.16903], [26.232256, -80.177091], [25.945131, -80.121137], [41.85757, -87.64439], [34.06982, -118.13442], [44.14979, -122.58118], [34.010797, -117.823567], [41.80896, -88.11726999999998], [38.775837, -76.056668], [37.952609, -122.055076], [34.13605, -117.592834], [34.23129, -118.40283], [40.344, -79.79867], [33.412867, -111.891492], [45.325851, -118.066959], [30.416141, -91.069513], [38.562124, -121.514428], [42.97099, -78.91389000000002], [34.03991, -118.316818], [48.182484, -114.109432], [25.764586, -80.303949], [32.876168, -111.687151], [35.661217, -80.539815], [38.649537, -76.885124], [40.69096500000001, -73.996976], [25.988148, -80.165745], [33.295449, -117.460742], [28.02167, -82.25048000000002], [40.582063, -122.391316], [30.381245, -97.685104], [36.22251, -83.04428], [42.11613, -87.77745], [33.87031, -117.8798], [40.27192, -75.28698399999998], [34.1611, -118.469614], [34.433820000000004, -118.38894], [32.764075, -96.856717], [46.441723, -95.174718], [34.107669, -118.186067], [41.14838, -74.188066], [38.82647100000001, -77.291168], [47.46234000000001, -122.25001], [37.552072, -77.47760500000003], [39.980257, -82.962092], [33.660783, -80.88961], [25.572537, -80.375416], [36.22842, -86.77278000000004], [44.730646, -93.283164], [40.13082, -75.40212], [25.812547, -80.248502], [25.80939200000001, -80.321097], [33.941178, -118.096711], [45.01034, -93.17211], [41.422884, -122.38742], [35.065515999999995, -80.990799], [29.613411, -95.445019], [41.390616, -74.47516999999998], [37.627746, -121.021614], [36.86808900000001, -76.418226], [32.713153000000005, -117.066673], [29.69821, -98.09585], [40.308647, -122.384037], [40.72288, -73.82757], [29.166973, -81.087094], [46.679865, -112.010786], [35.87818, -78.83606999999998], [32.714828000000004, -96.922405], [28.45486, -81.23108], [37.373438, -77.40568499999998], [25.685955, -80.430093], [34.724676, -92.284896], [36.035424, -78.96877099999998], [36.811677, -77.45707800000002], [32.792682, -96.611237], [37.626781, -120.99661], [36.801144, -119.808876], [39.95765, -75.160246], [30.52881, -84.47198900000002], [26.30445, -80.122], [42.38334, -83.21757], [38.905815, -77.013626], [32.881268, -96.897967], [27.7482, -82.67714000000002], [33.451370000000004, -112.06519], [35.149892, -80.89745], [34.040401, -117.798137], [32.759953, -97.149176], [38.885074, -77.153525], [38.85192, -76.96244], [33.96546, -117.85084], [32.845890999999995, -117.235997], [33.615707, -117.26342], [41.76529, -87.64005999999998], [47.659639, -122.18689], [27.368499, -80.413066], [38.54910200000001, -77.334644], [29.01713, -81.23638000000003], [27.855952, -82.346874], [28.029167, -82.156573], [41.68123, -83.59479], [35.061353000000004, -118.389111], [42.246998, -88.131025], [45.151994, -122.830708], [40.594076, -74.23423299999997], [32.900552000000005, -96.717668], [39.404428, -85.947609], [34.065661, -117.996218], [36.055981, -118.968216], [34.156733, -118.42252], [30.452581, -91.058202], [29.608956, -95.189997], [30.319379, -81.469091], [32.18005, -109.9437], [38.496158, -121.429183], [25.943451, -80.30708800000002], [46.736014, -92.166505], [45.152808, -93.505232], [33.617090000000005, -117.26412], [33.988889, -118.352388], [38.86934, -76.98852], [34.09042, -84.5339], [36.15107, -95.991255], [33.137737, -117.33084], [32.74994, -97.28545], [41.714415, -72.648134], [33.814203000000006, -118.176322], [33.66283, -117.78948], [25.877473, -80.323573], [41.76663, -72.65724], [34.563128000000006, -81.01085], [38.415547, -81.548097], [37.473758, -122.214082], [38.474349, -121.418058], [32.996042, -117.192163], [27.388202000000003, -82.47063299999998], [34.15637, -118.26384], [35.697525, -78.589218], [33.75471, -118.29125], [40.201657, -77.157728], [37.740901, -121.505044], [38.903775, -77.21665899999998], [28.49831, -81.42926], [44.045232, -123.050188], [25.9423, -80.309174], [33.46569, -111.9956], [25.83681, -80.24130699999998], [33.87717, -118.14815], [33.727791, -117.300931], [38.559364, -121.51398600000002], [36.813023, -76.281648], [47.686798, -122.326043], [28.567197, -81.210937], [39.68425, -104.8287], [39.236099, -123.203084], [32.700558, -96.836575], [27.89382, -82.70047], [33.913861, -117.557541], [42.556344, -82.860682], [25.76986, -80.318342], [37.5048, -77.469402], [43.131626, -75.295261], [27.88862, -82.71894], [27.95233, -82.37471], [43.094134, -77.390963], [34.610669, -79.696835], [38.663753, -112.590562], [42.07086, -91.33952], [37.233427, -77.395752], [38.975422, -121.380841], [33.942353000000004, -118.131357], [40.573894, -111.977079], [34.500693, -118.228966], [33.638426, -117.34377], [35.23454, -80.76055], [39.480727, -82.971094], [45.38267000000001, -118.31043], [44.861206, -93.318808], [38.706708, -121.326628], [34.830156, -82.30246899999999], [33.742047, -117.833922], [38.19527100000001, -81.492641], [41.346091, -74.67974699999998], [39.07618, -84.5195], [35.799026, -78.79985699999997], [47.598339, -122.31722], [34.864565, -118.149408], [36.06376, -115.16341], [48.254852, -114.254684], [33.833505, -117.36803], [37.604961, -77.506926], [33.451403000000006, -112.072534], [37.530552, -77.364939], [32.250353999999994, -110.988503], [38.09336, -122.10665], [45.634705, -109.35905], [35.012122999999995, -85.213137], [33.669523, -112.16261000000002], [26.01712, -80.16734], [33.48468, -117.1424], [35.797314, -78.56305], [40.701677, -73.990634], [47.323923, -122.244779], [41.29216, -72.92071999999997], [37.94844000000001, -122.512632], [47.01883400000001, -114.652065], [41.253194, -73.6764], [36.41367, -119.07634], [37.574805, -122.388145], [36.14369, -119.129921], [41.46979, -81.81071], [36.614052, -76.37529], [43.15592, -88.05826], [34.138452, -79.88042], [40.123032, -75.346122], [34.374818, -118.496621], [45.10881, -123.2622], [27.076607, -82.427435], [35.78013, -82.53985], [36.982621, -119.639252], [39.63137, -105.15955], [35.078718, -118.974371], [39.076217, -94.605542], [41.81922, -71.39158], [42.37106, -83.05438000000002], [34.117451, -117.200807], [39.753089, -84.25308100000002], [34.851294, -82.453414], [34.067011, -117.445295], [37.589545, -79.635451], [34.279207, -118.455451], [40.154301, -120.310652], [44.78897, -123.03674], [34.106747, -118.187334], [37.46081, -77.59167], [27.960595, -82.72573299999998], [41.544717, -73.072776], [29.77688, -95.38401], [40.939381, -123.6315], [30.367815000000004, -97.66864], [35.022339, -85.278628], [37.049385, -120.629528], [41.000788, -111.903506], [36.919834, -119.800374], [34.134501, -117.658368], [35.510477, -82.57883000000002], [44.95058, -93.274693], [44.770566, -93.767487], [30.449018, -87.30818199999999], [45.01027, -93.13606], [25.777448, -80.30509], [38.760435, -120.52916100000002], [40.403533, -79.527927], [39.29958, -76.59095], [44.90965, -93.35057], [40.22316, -76.432076], [25.97053, -80.16575999999998], [36.671923, -119.733971], [35.889962, -86.48191800000002], [38.22116, -85.77575999999998], [38.991998, -120.988007], [39.34894, -76.59909], [44.557972, -122.911447], [42.000927, -71.980681], [28.477856, -81.835273], [48.051658, -113.987104], [30.350141, -97.514004], [34.037723, -81.091493], [42.217379, -83.554919], [32.6483, -96.82337], [25.733338, -80.302883], [28.512996, -81.374302], [38.597148, -121.415435], [45.974963, -94.337588], [25.645931, -80.333263], [38.868964, -76.844201], [47.924777, -122.203706], [33.9024, -118.062408], [40.811666, -74.305633], [39.87648, -75.12451], [34.046545, -81.119958], [40.42567, -80.106095], [33.391323, -117.174027], [29.953032, -95.537669], [34.021791, -118.15265], [39.684701, -104.950489], [34.135738, -118.147399], [30.600104, -91.047784], [39.8144, -84.25372], [33.201179, -117.128239], [36.03305, -79.80118], [42.26451, -71.56971], [39.32408, -77.35563], [26.063165, -81.699191], [26.612836, -81.782014], [39.12827, -104.86392], [40.543912, -112.298327], [43.91393, -123.012746], [30.65602800000001, -87.910827], [39.311925, -76.540063], [40.359293, -104.983845], [33.874784000000005, -118.14266299999998], [33.879909999999995, -117.55183999999998], [32.727509000000005, -117.104698], [36.144681, -86.777006], [32.890968, -117.227506], [33.877320000000005, -118.135238], [30.510704, -81.63449], [40.803159, -77.62753199999999], [36.758719, -76.341215], [38.417655, -81.800519], [43.91500300000001, -93.27694], [34.217669, -82.138587], [41.818385, -93.570937], [35.13644, -80.97784], [44.921861, -92.972842], [37.281868, -118.373018], [33.87676, -118.15634], [38.258148, -122.781111], [39.95769, -104.98814], [33.668536, -117.881635], [26.118522, -80.17800799999998], [33.82459, -84.23301], [44.94496, -122.99015], [30.469869, -91.058082], [32.717766999999995, -117.088862], [45.452831, -122.573143], [38.65623, -77.27868000000002], [46.358345, -112.74143], [42.91310900000001, -78.69690600000001], [34.302194, -117.460627], [32.785531, -96.624552], [33.480417, -112.26403], [27.96812700000001, -82.78309899999998], [25.657753, -80.32777], [39.796851, -86.07489], [40.05094, -74.990464], [26.652747, -80.06885], [36.851781, -81.481186], [33.983022, -117.342966], [41.02484000000001, -81.525521], [25.750478, -80.400435], [42.524787, -83.758326], [36.05796, -79.63367], [43.755787, -123.098083], [32.42119, -86.22929], [34.031, -117.32828], [39.500581, -117.083798], [32.805871999999994, -96.798357], [41.301857, -73.101043], [34.127348, -79.77705300000002], [34.02641, -80.94351], [39.003965, -78.313188], [25.966656, -80.160515], [44.2653, -94.185394], [29.81635, -95.37697], [35.73052, -78.650859], [34.432343, -119.745987], [37.7011, -122.4714], [35.194635, -80.873903], [32.331233000000005, -90.333225], [26.090952, -80.216739], [40.595411, -111.080642], [36.74243, -119.81253], [48.4521, -122.34146], [46.885925, -112.10624], [37.978835, -121.21422], [42.309305, -122.846245], [47.62991, -122.32711], [39.761154, -76.96700200000002], [39.606411, -77.75421700000003], [35.152062, -80.870419], [42.44932100000001, -93.866774], [39.097631, -121.551513], [28.449912, -81.47993000000002], [44.392157, -123.061112], [38.148941, -122.45235], [30.440788, -91.014404], [30.29657700000001, -97.718542], [32.77961, -117.09756000000002], [44.835812, -92.968471], [34.12856, -118.34664], [40.82368, -73.87745], [28.472089, -81.442178], [34.02917, -118.39624], [25.910063, -80.210076], [48.523961, -112.95045], [37.700962, -122.48312], [33.189139000000004, -117.361491], [37.513902, -77.787715], [38.551971, -121.511526], [39.453019, -85.629143], [29.863931, -95.338445], [34.187154, -81.012807], [41.024257, -81.500638], [42.239522, -123.090262], [29.725287, -95.433292], [45.685755, -118.724302], [28.85382, -81.05617600000002], [38.319872, -122.316736], [38.831562, -77.43366800000003], [34.0816, -117.72231], [37.72068, -121.65554], [34.119914, -117.868094], [37.770949, -122.405755], [45.206484, -123.889914], [39.831436, -86.275688], [44.951945, -93.273725], [28.416498, -81.422671], [28.556819, -81.4142], [42.86608, -73.733115], [29.717045, -95.499364], [34.063037, -81.046136], [37.793278, -120.91389], [28.422651, -81.404776], [41.230006, -77.004145], [35.203619, -80.824614], [39.953877, -75.28392099999998], [33.982156, -118.252069], [30.450254, -84.22641999999998], [32.23578, -110.9779], [36.089519, -86.76281999999998], [39.429942, -86.46065300000002], [34.264066, -118.44118799999998], [34.134639, -118.073319], [42.101507, -122.597969], [40.038585, -76.300031], [33.309036, -80.55380500000003], [33.902467, -118.370336], [45.52301, -122.66543], [25.92744, -80.2065], [34.07837, -117.74156], [44.987678, -93.288825], [28.154543, -82.390727], [25.684348, -80.449301], [29.551576, -81.865039], [36.123684, -86.747835], [25.86823, -80.234413], [45.493535, -122.778768], [36.8545, -121.5698], [36.07671, -79.89761], [30.536383, -87.262338], [33.883617, -117.535061], [34.931806, -81.099705], [27.93765, -82.28576], [38.99061500000001, -77.15735500000002], [36.771899, -119.852908], [45.229137, -93.457294], [44.07373, -91.729154], [37.54555300000001, -122.32581299999998], [38.696359, -121.22519], [31.596992, -97.108933], [37.866753, -122.303642], [30.439177, -91.019979], [32.465488, -93.797295], [29.990926, -90.063804], [45.320068, -93.561648], [37.16285, -121.66379], [25.982977, -80.142127], [34.12842, -117.96183], [36.96673, -76.294566], [34.065657, -117.50186399999998], [39.18492, -94.59638], [38.308537, -122.478664], [35.273998, -81.162453], [32.16326, -110.96817], [43.61814, -93.33624], [39.537926, -82.96673100000002], [25.943434, -80.203171], [30.390139, -97.652521], [47.33221, -122.87871], [29.62930900000001, -95.323974], [32.720489, -97.525007], [36.692393, -119.754644], [38.772925, -76.88641899999998], [37.960597, -121.333953], [44.88579, -93.00447], [37.735317, -122.191851], [40.323826, -78.92388199999998], [33.888148, -84.254517], [38.68296, -90.23569], [41.99582, -88.33799], [34.085685999999995, -118.21636], [40.257185, -76.83318], [27.960592, -82.74443000000002], [39.117647, -119.844778], [45.05073, -123.512008], [32.805189, -117.222881], [35.64737299999999, -78.708557], [45.047695, -121.510368], [33.916414, -118.28271200000002], [25.898118, -80.21530600000001], [31.78373, -106.4614], [33.690944, -117.341008], [34.678902, -92.32558], [40.294247, -74.682927], [28.31965, -81.33925], [35.239816, -80.885864], [33.502768, -117.148435], [47.70488, -122.32958], [29.80146, -95.37202], [25.7809, -80.33078], [45.09455, -93.40227], [37.552842, -122.296797], [36.997812, -80.77965400000002], [25.693046, -80.41566999999998], [34.015137, -118.169999], [32.875847, -96.691011], [34.208613, -82.38836500000002], [25.90939, -80.20987], [37.309661, -76.68809300000002], [34.035125, -118.045068], [44.97327, -93.4006], [39.280463, -94.674467], [37.657977, -121.902949], [40.022763, -76.367086], [37.6372, -122.44013], [34.06521, -84.27355], [40.407984, -111.603481], [37.518149, -77.426415], [35.2003, -80.88165], [34.738229, -86.657087], [40.66829, -73.73844], [33.523463, -112.116901], [41.72135, -87.80804], [39.091122, -77.523262], [33.916717, -84.342199], [30.468402, -81.610675], [41.22916, -81.48961], [28.218055, -82.458596], [39.700437, -105.83869], [30.421445, -83.30445300000002], [33.45301, -86.818625], [29.13041, -81.12467], [37.312054, -80.060128], [35.769366, -81.00655400000002], [34.112967, -117.302795], [32.310763, -80.982608], [29.726461, -95.466245], [32.922967, -96.899617], [46.13791, -107.51184], [34.37294, -116.85992], [41.9825, -87.80161], [32.72374, -117.102747], [40.63171, -74.21167], [44.97208, -93.2511], [36.518317, -119.791071], [34.794484000000004, -118.84882], [34.546479, -118.434061], [34.226642, -81.579848], [37.80836400000001, -77.931185], [29.66305, -95.38588], [30.42477, -97.665014], [40.164249, -111.64684], [45.52269, -122.5652], [30.169716, -97.820277], [25.714569, -80.414261], [33.386517, -111.587716], [34.328932, -77.998191], [28.368362, -81.378446], [39.91687, -83.00731999999998], [26.231684, -80.136583], [41.87425, -87.70594], [38.209623, -122.138475], [25.889336, -80.15981], [41.938291, -87.70623499999998], [45.20438, -93.365523], [39.472157, -119.790208], [41.163339, -79.09784300000003], [41.21706, -73.25771999999998], [38.649188, -121.383024], [36.29712, -119.13608], [37.892639, -122.203819], [33.41746, -111.89146], [42.49122, -83.0709], [25.85443900000001, -80.212471], [46.918257, -122.948676], [35.48737, -94.96686], [25.943451, -80.30708800000002], [32.759675, -117.202451], [36.963407, -121.990596], [41.699581, -122.63241399999998], [44.105023, -94.228669], [34.14738, -81.24131], [44.56599, -123.15925], [33.558376, -86.83023100000004], [39.296303, -76.825193], [33.767945000000005, -117.920267], [34.861325, -118.171638], [33.567067, -81.613764], [40.499049, -74.300826], [34.240829999999995, -111.3178], [45.037261, -93.070474], [34.081452, -117.482626], [40.69058, -73.574141], [30.196212, -81.55613699999998], [33.867869, -118.235678], [25.925542, -80.29089499999998], [33.743201, -117.127822], [40.6638, -73.75933], [40.74831, -73.9391], [35.622953, -79.658325], [38.55405, -90.2625], [33.544714, -113.191561], [41.846987, -88.030675], [38.954783, -85.843616], [26.055292, -80.162126], [39.20636, -76.64224], [45.605635, -122.682378], [26.891585, -80.13307900000002], [43.21219, -77.43030999999998], [34.498599, -117.800253], [25.86938, -80.32311999999997], [38.55954000000001, -121.37311], [34.067609999999995, -117.56668], [36.187584, -86.776057], [42.902694, -83.64853199999997], [40.376933, -80.10064200000002], [33.854834000000004, -117.789302], [32.6951, -117.13412], [33.581332, -117.671877], [34.05924, -118.25256], [37.2922, -80.10383900000002], [39.72437, -110.86707], [33.8465, -118.270694], [40.57876, -111.90033], [25.932336, -80.293446], [25.686059, -80.39741500000002], [45.76428, -93.64069], [33.82321, -84.12924], [34.02414, -118.42779], [42.779189, -85.66915], [37.553198, -122.297032], [31.359325, -89.34400600000002], [38.508989, -77.377259], [34.061809000000004, -118.457189], [32.445184000000005, -93.712953], [39.15263, -76.646569], [39.418741, -77.48083199999998], [29.719774, -82.001021], [25.944151, -80.164879], [33.833407, -117.305111], [41.81002, -88.066022], [33.641597999999995, -117.119107], [40.690366, -74.102965], [45.289958, -93.003065], [36.757503, -76.287847], [34.103553999999995, -118.25148], [34.134564000000005, -117.651447], [33.743311, -117.111909], [37.41315, -121.98333999999998], [40.408617, -80.409207], [37.485245, -77.518167], [42.37584, -71.25035], [37.79361, -79.88253], [30.595814, -87.349448], [43.26125800000001, -122.428209], [39.818434, -76.134961], [33.42484, -112.02462], [29.731971, -82.474517], [45.008232, -93.451078], [35.113452, -120.568842], [33.644279, -117.915863], [45.8032, -119.384645], [32.943389, -117.232894], [44.973661, -93.250089], [35.016105, -82.020833], [25.576171, -80.36465799999998], [34.605979, -79.716796], [39.538866, -122.174547], [25.844677, -80.225339], [38.849319, -77.21985], [41.79894, -87.63169], [26.547899, -81.85273199999997], [45.49516, -123.84986], [38.676863, -120.91822], [34.14982, -84.5149], [41.276044, -76.436728], [40.717402, -112.235634], [30.274063, -81.732297], [33.581653, -84.517103], [29.974463, -95.52268], [35.337844, -85.111075], [34.843287, -82.27057099999998], [43.490336, -124.220222], [25.911515, -80.309163], [29.842387, -95.277096], [33.913275, -118.13579], [45.433369, -123.13899], [47.46919000000001, -122.26836000000002], [36.532644, -119.628915], [33.9029, -80.699885], [38.093887, -120.94551], [47.22687, -122.46323999999998], [33.635172, -117.727314], [41.84265, -71.41096999999998], [40.120573, -75.349799], [33.741899, -117.837713], [25.779835, -80.19685600000003], [36.210948, -119.260271], [33.834927, -117.835419], [35.889789, -78.562477], [33.23427, -87.54418299999998], [32.28621, -90.218139], [44.70805, -121.1672], [33.67436, -81.760006], [35.68836, -78.84624000000002], [33.963141, -118.032835], [40.65036, -74.75888], [35.705233, -81.41842199999998], [36.875256, -76.196826], [45.901239, -123.867266], [33.779175, -117.876143], [27.939144, -82.28576600000002], [34.214948, -117.411446], [41.55168, -73.03296], [33.96015, -118.24745], [38.532668, -76.9831], [38.574912, -121.550362], [38.866148, -121.571484], [33.484621000000004, -111.888795], [42.3623, -83.07863], [40.073286, -74.756909], [33.744409999999995, -78.95536], [40.966232, -124.115858], [29.86958, -95.397862], [40.494708, -79.92493499999998], [39.68459, -121.343544], [33.853656, -117.974114], [33.930923, -118.328539], [35.080890999999994, -80.731225], [32.781692, -96.8769], [34.267251, -118.44174], [26.46268400000001, -80.088724], [30.28863, -81.988917], [45.226216, -121.698205], [36.213097, -81.036314], [29.713041, -95.614703], [38.820469, -77.646387], [39.986845, -75.965296], [39.078358, -78.219341], [32.77308, -117.02916], [33.38572, -111.86338], [37.446347, -77.619426], [28.59504, -81.38455], [39.525235, -119.696956], [37.825983, -121.995459], [28.18889, -82.54536999999998], [43.616279, -122.135321], [42.44102, -83.7551], [26.18241, -80.15254], [40.905468, -123.7812], [34.485189, -117.330038], [34.044195, -118.171402], [42.34582, -71.05958000000003], [42.290786, -84.191998], [35.27312, -80.836545], [33.974447999999995, -118.163749], [34.073998, -117.752207], [29.967939, -90.107509], [28.57552, -81.476014], [32.206878, -110.956929], [33.948848, -118.046511], [40.7808, -73.24616], [34.15458, -118.3221], [26.330542, -81.806865], [33.737759999999994, -84.39183], [39.09875, -84.52119], [39.140156, -76.755391], [33.901111, -117.469326], [40.69063, -73.58079000000002], [40.172391, -76.83272099999998], [48.749021, -122.46406100000002], [34.11966, -117.807473], [47.55635, -122.19069], [34.032402000000005, -118.020612], [37.797979, -122.215317], [33.88635, -117.550407], [25.963401, -80.150446], [44.907576, -91.952966], [40.825656, -73.931218], [29.99176, -90.05340799999998], [29.034069, -82.17430300000002], [40.068646, -76.302944], [43.144009, -77.56603], [27.410212, -80.400899], [45.52721, -122.68695], [33.989163, -118.284854], [43.871487, -120.867708], [36.84463, -76.272406], [32.787677, -117.097727], [28.417676, -81.422934], [34.521054, -117.996807], [25.761489, -80.353933], [37.98922, -122.312648], [34.847631, -118.87372], [33.68725, -117.87216], [47.240899, -122.348932], [33.9821, -81.259119], [32.698215999999995, -96.839997], [30.171003, -81.602808], [36.14122, -86.73161999999998], [37.515124, -121.939777], [25.685454, -80.41555], [40.566657, -112.367008], [32.983947, -117.254461], [37.374812, -77.406502], [27.96749, -82.80856800000002], [28.522879, -81.488134], [44.66184000000001, -123.90339], [25.563295, -80.372241], [34.033288, -118.168679], [37.077786, -122.083637], [37.95548, -122.053382], [38.76615, -90.13088], [37.792981, -121.190258], [25.808804, -80.24979], [37.429823, -122.103147], [39.706681, -86.109026], [34.037309, -118.300371], [38.42206, -77.4082], [30.348979, -91.067668], [32.79503, -96.71833], [38.612374, -90.215331], [47.57693, -122.31978], [36.146362, -86.666512], [33.525441, -81.849184], [44.943081, -93.07707], [34.15653, -118.42356399999998], [25.890318, -80.163545], [25.700803, -80.383825], [34.114909999999995, -117.97802], [33.766972, -84.660075], [33.989168, -118.282669], [40.130327, -75.20609499999998], [34.31666, -117.47974], [41.305602, -111.985271], [43.877191, -93.390901], [26.28016, -80.12526], [33.029311, -96.708644], [45.65307, -120.94196], [28.18235, -82.74016999999998], [39.140735, -94.388362], [32.709412, -117.147737], [38.057063, -121.296122], [44.414473, -119.028572], [27.936290000000003, -82.56407], [38.51469, -121.46238], [28.477487, -81.41762], [40.83464, -74.82373], [40.437444, -74.43086], [38.755896, -75.93000500000002], [37.738455, -121.670163], [41.960787, -75.317815], [33.985314, -118.413802], [33.896214, -118.18765], [35.26680800000001, -119.00299], [35.835224, -78.67008], [35.776609, -78.564982], [28.339936, -82.323554], [40.863199, -73.911148], [28.086846, -82.451359], [47.41206, -93.5924], [30.420995, -91.140545], [29.21103, -82.18465], [34.072806, -118.466716], [34.148393, -118.067697], [38.78645, -121.28412], [25.97053, -80.16575999999998], [40.597402, -78.709487], [36.98834, -122.00761], [32.27196, -110.978599], [34.069512, -117.79722], [28.259619, -81.590604], [35.241354, -80.938897], [30.84022, -85.166067], [40.783692, -74.201204], [33.30514, -112.0146], [38.990617, -77.15735699999998], [33.875911, -118.168782], [37.089843, -121.002144], [44.27122, -94.24216], [37.523063, -113.640142], [39.68408, -123.478288], [35.11547, -80.92557], [40.37011, -75.91030400000002], [37.90857000000001, -122.0688], [34.980749, -89.582925], [32.77941, -117.0695], [39.065624, -94.792885], [34.066720000000004, -117.243987], [32.367356, -95.309834], [40.913904, -74.08953699999998], [37.707582, -121.726941], [34.273067, -118.589493], [36.96764, -76.51171], [47.580993, -122.319486], [37.769531, -122.41559], [36.118966, -86.74860799999998], [32.863656, -96.71419], [28.43767, -81.412242], [39.35097, -76.75038], [32.79125, -96.684956], [28.240719, -82.320318], [32.805752000000005, -96.838374], [37.934398, -122.433923], [36.320854, -86.703704], [33.96348, -117.32473], [41.5434, -72.981387], [42.20723, -121.7883], [28.003281, -82.319387], [39.56613, -104.9885], [26.446881, -80.090417], [30.378637, -86.35269699999998], [39.6298, -104.90516], [33.124626, -117.17426299999998], [34.136297, -117.459343], [40.18778, -74.61068], [25.85448, -80.387406], [29.551586, -95.889224], [40.211111, -76.385589], [32.819790000000005, -96.92123], [30.63645, -84.95116999999998], [35.839238, -78.675899], [41.96436, -87.74767], [43.00771, -83.6854], [44.7975, -93.28942], [30.219654, -82.638237], [28.343906, -81.362698], [27.644702, -82.672687], [33.824484000000005, -118.287244], [43.053936, -83.723514], [26.382607, -81.80820600000001], [42.88663, -71.47824], [25.881811, -80.226656], [40.668685, -111.805334], [33.928490000000004, -118.282606], [43.06443, -87.92083000000002], [38.301204, -122.70603], [38.815744, -77.643199], [34.143703, -117.300822], [34.921875, -81.986632], [39.1197, -84.53553000000002], [33.40742, -111.901099], [41.769698, -72.675392], [38.915966, -77.217332], [33.21832, -117.34401], [47.485173, -122.268894], [33.15136, -117.10439], [26.52375300000001, -80.07264], [38.678106, -121.202294], [39.282641, -120.706031], [39.13297100000001, -94.568062], [34.031424, -118.413531], [37.47226, -120.84459], [32.774995000000004, -96.778639], [35.264167, -118.658367], [33.929611, -79.12603399999998], [35.6809, -88.739823], [35.26484, -80.87575], [38.596554, -121.54927], [34.22139, -118.474941], [37.638269, -121.287609], [38.394073, -85.762377], [32.750126, -117.108968], [34.155858, -118.307496], [42.387498, -87.963204], [37.303665, -121.878527], [40.284617, -112.262791], [35.76654, -78.73536999999997], [35.034556, -85.178666], [34.086814000000004, -117.29947], [28.641473, -81.788096], [35.355795, -91.507712], [37.5415, -77.426912], [40.682276, -73.66436999999998], [35.25808499999999, -80.87104699999998], [44.95965, -93.20469], [27.88049, -82.83746], [25.823882, -80.24219699999998], [40.62696500000001, -74.244221], [28.874634000000004, -81.266244], [25.936421, -80.31193], [35.851081, -86.439238], [38.272755, -77.046444], [33.689459, -117.905566], [42.24013, -87.90335999999998], [40.71427, -74.27891], [40.762348, -74.049513], [30.57590200000001, -84.430146], [35.849659, -78.58235400000002], [44.29074, -117.22372], [29.93260200000001, -95.411884], [42.521379, -83.627571], [25.894961, -80.203283], [33.760659999999994, -84.4845], [40.755595, -73.96116500000002], [29.978436, -90.014142], [40.80334000000001, -76.582227], [40.065504, -75.331873], [44.97019, -93.40058], [33.993405, -117.905133], [34.112149, -80.89459599999998], [37.9523, -121.27809], [33.937231, -118.094083], [38.63206, -75.805996], [36.153268, -86.76431099999998], [32.896611, -96.804], [37.37737, -121.94545], [30.179567, -81.62800899999998], [34.070221000000004, -117.47543], [33.721174, -117.420757], [44.925842, -93.382863], [41.091734, -73.99061], [38.107197, -122.229754], [41.963513, -91.973606], [33.339859000000004, -84.971374], [34.061372, -117.787478], [33.734268, -117.991418], [39.252122, -76.683658], [38.678569, -121.225744], [35.205575, -80.759028], [35.18319, -120.70132], [26.45033, -81.681997], [29.680906, -95.371531], [33.698769, -117.94232], [47.81415, -122.29229], [41.00078900000001, -73.83064], [41.31870900000001, -73.748541], [33.458906, -117.655867], [35.065267, -85.194948], [41.569601, -87.373749], [42.641233, -73.752089], [33.707898, -78.917956], [34.492544, -118.621904], [38.970326, -123.11655], [33.957287, -117.156728], [40.143447, -77.646771], [28.397040000000004, -81.424187], [35.652738, -78.822673], [33.969854999999995, -80.923546], [34.081981, -117.710276], [40.288917, -76.991562], [38.185418, -120.658563], [28.55301, -81.39157], [34.087466, -117.647164], [35.528422, -120.51346399999998], [33.724492, -117.977374], [34.069427000000005, -117.396007], [37.6909, -122.12939], [39.422694, -76.39774399999997], [34.226111, -119.1625], [41.103579, -112.015382], [37.64188400000001, -77.58565300000002], [33.4356, -112.40944], [33.440741, -84.699472], [41.071286, -73.896775], [38.27613, -85.63239], [35.024144, -85.24645500000003], [38.62837, -121.22151], [36.8787, -76.20203000000002], [36.14416, -115.225207], [29.722235, -95.3277], [39.021642, -76.42124799999998], [40.72573, -111.95691], [38.337188, -77.495852], [37.595676, -121.87261399999998], [40.08804, -86.1278], [33.6644, -117.7506], [29.522611, -81.262886], [33.567585, -112.116788], [32.812216, -96.770203], [40.767, -73.86381], [38.197439, -121.170702], [27.415305, -80.390171], [38.601833, -121.382906], [40.715921, -73.807644], [33.898912, -117.5597], [45.50732, -122.68379], [38.894101, -77.014042], [33.884252000000004, -79.12246999999998], [34.136227000000005, -117.956374], [35.38535800000001, -81.20421999999998], [33.494298, -81.968017], [33.59785, -81.86984100000002], [39.322793, -76.475023], [42.39792, -82.98566], [25.86639, -80.20825], [33.70074, -85.06186], [44.18851, -116.984508], [34.754052, -92.405758], [38.788787, -77.640644], [42.182906, -120.538879], [41.31605, -77.4471], [26.146076, -80.451217], [28.672903, -81.489026], [34.256211, -118.99629], [34.2745, -118.542791], [34.199839000000004, -118.856772], [40.78646, -73.79433], [40.74308900000001, -113.071622], [32.7258, -117.07321], [34.108061, -118.330824], [30.019722, -89.963034], [30.658954, -87.818435], [39.828158, -75.103911], [44.79601, -94.23309], [28.451129, -81.353374], [40.680001, -73.804253], [30.072238, -81.498548], [32.789907, -96.592815], [28.871955, -82.601274], [34.638051000000004, -92.451236], [37.732124, -122.43164], [29.623106, -81.658043], [42.969009, -85.690118], [35.4572, -97.57434], [40.042179, -75.476017], [33.974486, -118.22786], [37.001087, -76.405958], [40.845262, -73.927777], [34.030438000000004, -117.581799], [40.852218, -75.285027], [31.77575, -106.25299], [33.600226, -112.281874], [40.829081, -73.931523], [47.978035, -101.914747], [40.211602, -76.87132700000002], [39.45107, -94.788579], [41.80085800000001, -88.240527], [40.048507, -75.424398], [33.916342, -118.261376], [31.444049, -81.44488100000002], [45.513427, -95.140874], [42.42763, -123.04828], [37.411847, -120.904504], [45.788751, -95.881923], [39.914223, -75.090626], [32.48951, -85.03497], [48.06405, -124.10923], [39.79038, -84.18465], [39.82395, -86.20636], [41.282587, -72.85763399999998], [41.008242, -73.697699], [38.66104, -121.35519], [40.53542, -74.302586], [41.809296, -87.802059], [30.39747, -91.05268], [38.337252, -77.495913], [38.12111, -79.04743], [33.92893, -118.281397], [42.311742, -122.98635], [33.767919, -117.920264], [44.063211, -123.042443], [34.018013, -118.176976], [42.034789, -88.339706], [39.891229, -76.068147], [39.016101, -76.97769], [41.856569, -72.663327], [36.532663, -119.700798], [34.101721999999995, -118.310713], [34.55797800000001, -118.132558], [45.526752, -122.658125], [34.03072, -117.58866], [25.947548, -80.147547], [41.8509, -87.64492], [41.207343, -111.948542], [40.671689, -73.998434], [38.371471, -81.724638], [33.781939, -117.880929], [31.560298, -86.865216], [34.002771, -117.379603], [36.113564, -86.806167], [40.780681, -73.657718], [42.741698, -78.844424], [25.592506, -80.37807600000002], [44.79368, -93.28883], [36.762241, -119.775658], [40.259361, -76.813059], [38.538957, -121.736787], [28.552163, -81.475974], [38.788372, -123.010881], [47.62991, -122.32711], [32.229082, -110.962519], [34.082840999999995, -118.227382], [25.749454, -80.335813], [37.933533, -78.109927], [32.975390000000004, -96.82331], [41.595085, -71.96754], [25.744296, -80.311406], [39.26432, -104.89469], [40.609827, -75.530008], [33.866112, -117.998024], [40.254667, -111.698545], [35.00611, -89.93681], [38.026756, -121.936455], [28.095699, -82.73976], [34.344173, -117.461646], [27.786782, -82.72298599999998], [34.223596, -118.848755], [34.2183, -118.47314], [45.581096, -94.090529], [42.31732, -83.44283], [35.14841, -80.83091999999998], [33.709154, -79.08037], [34.02196, -117.813129], [40.119478, -76.78850899999998], [35.66757, -97.58476], [33.08208, -96.85199], [39.749276, -86.143612], [33.282705, -111.8186], [34.165503, -118.492347], [29.740419, -95.354801], [36.300212, -119.744485], [28.44864, -81.473754], [45.476487, -122.678639], [36.16241, -86.778076], [37.99405, -122.03914], [43.00972, -85.67482], [36.216213, -86.77528000000002], [41.213359, -76.98214499999997], [33.214069, -81.417068], [33.45561, -111.89], [34.03048, -118.43306499999998], [36.82912, -76.31083000000002], [33.69897, -84.26148], [39.500393, -121.500567], [37.528306, -121.945698], [37.454432, -120.801983], [33.91426, -118.0992], [35.74197, -78.637128], [37.596913, -121.860718], [40.910963, -77.77646999999997], [30.247905, -97.735227], [45.53174, -122.59677], [39.230791, -123.09668899999998], [25.656445, -80.41259000000002], [27.974194, -82.828275], [25.750249, -80.335835], [34.07504, -118.46846], [32.838433, -96.777656], [41.278799, -73.049308], [34.145668, -117.292045], [41.029306, -73.73849], [38.358002, -122.76961], [37.638261, -121.359695], [34.03273, -118.387538], [32.97626, -117.08775], [33.874210999999995, -117.663019], [39.076547, -77.080839], [34.05516, -118.21407], [34.013353, -117.385918], [38.86098, -77.002762], [32.72611, -97.32039], [46.732984, -113.918895], [25.77054200000001, -80.302187], [34.177129, -118.872577], [34.906573, -82.163335], [37.73749, -97.32416], [28.5955, -81.244619], [38.571662, -121.412031], [40.402382, -77.01758199999998], [48.071416, -114.677027], [37.930629, -121.254032], [40.813527, -73.934895], [35.10611, -106.66613999999998], [33.913461, -117.096631], [32.743811, -96.815575], [29.42222000000001, -98.423326], [26.697699, -81.867873], [32.813778000000006, -96.84738], [42.35942, -87.87419], [28.346883, -81.65424200000002], [41.0558, -73.51764200000002], [38.293576, -121.3136], [33.99425, -117.88854], [37.538984, -121.565777], [33.700765000000004, -117.947705], [44.118107, -94.205148], [43.016806, -76.400384], [40.74353, -111.6847], [27.388306, -82.459515], [39.870294, -74.921814], [41.22656, -96.0623], [45.06915, -93.29395], [45.706041, -94.176196], [33.841431, -117.255466], [40.654003, -77.473535], [42.86712, -73.90649], [44.86107, -93.16702], [29.769003, -95.391864], [39.106669, -94.575442], [46.40787, -95.280014], [28.449921000000003, -81.479337], [33.306, -111.89418], [28.960089, -82.12357800000002], [45.663553, -110.686993], [39.17145, -76.785985], [37.529791, -77.628897], [34.191327, -79.77838100000002], [33.995176, -117.361739], [39.67465, -75.595526], [32.780770000000004, -96.78397], [33.880087, -118.28476299999998], [38.897599, -77.177337], [45.528871, -122.602217], [27.819029, -82.673877], [26.109791, -80.354851], [34.121338, -117.294156], [40.92304, -73.84518], [33.819018, -117.717272], [43.246824, -75.147673], [45.077896, -93.367351], [41.111136, -111.754628], [37.475431, -122.166594], [33.822177, -118.196863], [36.867395, -79.406198], [33.961315, -118.282757], [33.769375, -81.256941], [34.082502000000005, -117.2991], [40.844731, -73.92514399999997], [48.40557, -122.644632], [32.908454, -96.895376], [37.931016, -122.324559], [40.76284, -73.75434], [25.789247, -80.20386500000002], [33.981881, -118.46217], [39.682976, -120.988252], [34.164122, -117.892624], [40.8454, -73.9256], [39.315508, -76.537488], [37.423173, -120.767894], [35.152626, -119.465209], [28.515261, -81.38893900000002], [41.835937, -88.029065], [37.403891, -77.674874], [39.153546, -76.649712], [34.182463, -117.273944], [25.748801, -80.335788], [34.041089, -117.80188400000002], [28.878432, -82.092536], [33.851244, -81.076275], [28.576644, -81.451382], [38.976441, -77.020482], [36.149495, -86.782656], [34.068644, -117.366001], [38.660775, -121.346852], [33.775359, -84.496296], [25.926832, -80.23361700000002], [39.87218, -75.03755], [29.951649, -82.780369], [30.425724, -86.64223100000002], [33.904945, -78.84045400000002], [40.030735, -74.18341], [25.81225, -80.23746], [41.71152, -72.58689], [46.826513, -95.853109], [40.769845, -74.026039], [34.252613000000004, -119.213064], [26.676072, -80.069864], [38.773847, -76.886719], [36.108935, -119.536483], [33.876202, -118.160029], [27.269302000000003, -82.481376], [41.63483, -72.86981], [29.498926, -98.548054], [40.74644, -73.89509], [44.93661, -117.84069], [29.770509000000004, -95.213666], [40.676697, -74.605182], [38.902336, -94.678837], [36.288474, -86.724964], [39.414598, -121.688123], [39.19161, -74.82341], [34.052356, -117.300893], [37.345284, -120.615423], [40.560028, -75.44970699999998], [42.762097, -73.93002800000002], [33.31125, -111.894463], [35.031817, -85.27175600000002], [34.347515, -80.680749], [28.358171, -81.497925], [41.311304, -72.916187], [25.686059, -80.39741500000002], [39.476698, -119.790962], [25.690182, -80.45233499999998], [37.43713, -77.60059], [33.872132, -117.686929], [28.38591, -81.505771], [32.49268, -93.797249], [39.630486, -84.225832], [32.791059999999995, -96.751794], [36.059159, -86.679006], [39.015118, -77.004389], [28.517555, -81.28966199999998], [33.888000000000005, -117.278102], [40.85017, -73.944738], [33.779225, -118.08993999999998], [39.92586, -105.113064], [32.22141, -110.8923], [33.183463, -117.292367], [29.738527, -95.576207], [29.709408000000003, -95.521263], [41.88651, -87.92061], [32.78096, -97.212449], [39.70639, -111.81876], [35.278931, -80.793545], [47.5776, -122.17389], [33.92321, -118.20573], [35.99764000000001, -86.79669], [40.57163900000001, -75.538228], [40.117913, -75.068311], [30.003544, -90.031617], [33.600352, -117.67211100000002], [25.996267, -80.223123], [34.29758, -118.24345], [35.05299, -90.69474], [44.88977, -93.35351], [27.024961, -82.05108], [38.575147, -120.84529], [41.244529, -112.000197], [34.185637, -118.141071], [38.477566, -121.408711], [34.032973, -118.137434], [26.810099, -80.098027], [43.608255, -116.3548], [32.846149, -117.170444], [36.210786, -119.118154], [37.131672, -80.364612], [40.734676, -74.100819], [39.768737, -84.19755500000002], [41.45677, -77.12937], [41.81588, -87.66514000000002], [34.053467, -117.162253], [25.78084, -80.19989], [41.978341, -74.01026800000002], [44.323416, -121.174604], [37.8986, -122.07079], [41.568289, -87.124354], [34.691337, -82.99017099999998], [43.143801, -77.550552], [30.650118, -87.06670600000002], [44.913556, -121.444294], [38.567235, -121.397828], [37.364215, -121.901491], [38.76199, -90.42439], [40.731268, -74.051856], [40.506778, -79.04663199999997], [40.31686, -74.65569], [33.939370000000004, -117.155977], [39.13653, -75.766278], [33.65511, -111.92522], [38.185611, -85.806924], [44.550844, -68.53107], [40.708411, -74.165664], [40.06925, -75.1342], [33.763694, -84.38338], [34.023258, -118.172834], [33.58523, -117.6718], [35.370555, -120.640946], [25.517619, -80.408449], [36.141707, -86.674011], [44.862233, -93.224909], [39.445048, -76.82624399999997], [43.671473, -94.416222], [40.520552, -111.89098], [33.857353, -117.979373], [37.155913, -121.586035], [28.407923, -81.468956], [38.975527, -85.74822900000002], [44.27763, -69.806201], [47.57207, -122.35951], [47.25315, -122.332084], [26.308271, -80.118657], [30.568292, -91.003313], [34.4351, -77.63122], [30.42089600000001, -97.697152], [36.471938, -94.244942], [33.571697, -117.720776], [33.86533, -118.04874], [33.467728, -86.757638], [32.685261, -117.090022], [39.736788, -105.373261], [29.737379, -95.529051], [41.01433400000001, -73.716327], [32.791453000000004, -117.112809], [38.81057, -77.25085], [33.8665, -117.719343], [30.302514, -85.648381], [37.892591, -122.159524], [34.723008, -82.258533], [34.155848, -118.307544], [34.032971, -118.27293], [33.451636, -117.135108], [38.580025, -77.322624], [41.05211, -76.86213000000002], [39.70367, -86.07666], [44.57572800000001, -119.135109], [35.366481, -120.837303], [39.01339, -77.04446999999998], [33.997141, -118.357975], [41.0923, -73.80329], [40.99872, -122.415243], [44.257379, -121.180731], [35.381526, -78.01370899999998], [37.899607, -86.75622], [38.960441, -77.190169], [38.47774, -121.420543], [37.8295, -79.655524], [37.191451, -121.993706], [37.91876, -121.24932], [44.163755, -69.83550100000001], [29.959504, -90.070226], [38.08600300000001, -121.259937], [44.062954, -123.094071], [38.874855, -77.47155699999998], [46.872129, -113.994017], [25.656765, -80.397674], [33.824940000000005, -118.28726], [33.932864, -118.090825], [39.17953, -84.43451], [28.262361, -80.727914], [35.678486, -78.74385699999998], [39.998967, -104.981577], [37.1877, -121.0127], [33.442954, -79.16436800000002], [37.67691, -113.06175], [47.977878, -102.128758], [33.768049, -117.867281], [39.30929, -74.59944], [25.877267, -80.242924], [42.418704, -123.36594], [43.560951, -116.393827], [38.608522, -76.928593], [29.954794, -90.081984], [33.71191, -84.22014], [41.74987, -72.72381999999998], [41.21919000000001, -77.22129], [38.00459, -84.44083], [34.02745, -118.2745], [37.84202, -122.29749], [44.012965, -123.782313], [35.845432, -78.680284], [41.496332, -94.524732], [29.704361, -95.55881], [26.16466, -80.17085], [44.903527, -93.274709], [25.890334, -80.185466], [40.80527, -73.93214], [35.632171, -78.862937], [35.816807, -78.73879699999998], [41.128925, -76.91200699999997], [40.375732, -78.43735], [41.98398, -87.8479], [37.368135, -77.475278], [33.766090000000005, -84.49851], [26.984299, -82.02664], [36.371832, -119.62023899999998], [32.637788, -96.894833], [40.294259, -76.677656], [43.15738, -77.634512], [30.457235, -91.179255], [26.548486, -81.852779], [41.167799, -73.200885], [39.872259, -75.086136], [25.107905, -80.427258], [40.89394, -73.86263000000002], [35.95315499999999, -119.930845], [39.899006, -75.109913], [28.552384000000004, -81.44975], [36.977862, -121.910363], [42.45927, -88.09184], [33.833495, -118.238846], [36.224316, -119.0917], [25.868265, -80.241084], [41.473, -81.63277], [39.77832, -104.9889], [32.780574, -96.799517], [25.81711, -80.20644], [28.541368, -81.53524300000002], [33.170015, -117.207802], [33.940447, -117.875887], [43.618337, -73.749611], [37.689043, -122.105321], [38.16999600000001, -122.201375], [40.299076, -79.55976], [41.667486, -91.416336], [45.347625, -122.766326], [36.154876, -86.786357], [40.74548, -73.8366], [38.94118, -94.53767], [38.694433, -121.36368], [40.307376, -78.48512], [38.33397, -121.468416], [33.7743, -118.012315], [30.48591, -81.642907], [43.58988, -116.193624], [37.628397, -121.802692], [36.165791, -86.780325], [45.453282, -120.751472], [32.68269, -97.24062], [33.916302, -118.376644], [36.71315, -120.006332], [29.78372, -95.46021], [46.53546400000001, -122.379173], [33.818075, -78.97748299999998], [37.553837, -77.48252600000002], [28.439373, -81.474917], [45.358731, -122.616099], [25.913248, -80.33346999999998], [34.440411, -119.830209], [33.997066, -117.93118], [33.383942, -117.578832], [33.721196, -117.838963], [33.76918, -84.64896999999998], [33.77828, -117.86037], [45.1035, -123.33666], [36.15376, -86.79349300000001], [26.680811, -81.77620999999998], [34.223271999999994, -118.248667], [25.84719, -80.38749], [28.466979, -81.417537], [35.742595, -78.59191], [32.742435, -96.818488], [36.817309, -76.281773], [25.670686, -80.383957], [39.016006, -77.015629], [38.247774, -77.51125], [42.023201, -87.767213], [41.319262, -73.001343], [34.027164, -118.209547], [35.09117, -89.89598000000002], [44.8409, -93.18669], [43.03546, -87.935986], [38.942638, -94.762004], [29.712736, -95.48991], [33.984631, -81.425526], [35.965601, -78.96757], [34.072038, -117.907502], [33.931821, -117.99017], [33.549059, -111.87902], [37.38627, -120.71836], [34.27262, -118.55966], [40.89372, -74.071637], [33.95474, -118.107561], [43.012965, -78.321522], [44.62702700000001, -123.968853], [44.947637, -122.99042], [32.33632, -95.287869], [40.657508, -122.767198], [44.864054, -93.09028], [34.828959999999995, -82.52675], [40.262092, -74.51218399999998], [33.992737, -81.165697], [37.226647, -121.975112], [29.872893, -95.409732], [34.13223, -117.681112], [33.88748, -118.10514], [47.917996, -122.206316], [25.761056, -80.420874], [44.81463, -93.39813], [41.088818, -80.818329], [42.954972, -76.980666], [40.63444000000001, -74.9486], [40.48149, -79.876345], [35.390426, -118.985036], [37.88192100000001, -121.623104], [33.8764, -117.66024], [34.028695, -118.011787], [45.51713, -122.80192], [33.876490000000004, -118.10199], [33.93862, -117.40016], [35.3575, -119.34], [39.63563, -77.486388], [39.058093, -78.106049], [25.624187, -80.414429], [37.1049, -120.22352], [40.665518, -73.99640600000002], [34.225399, -119.159423], [41.639753000000006, -72.342518], [35.033485, -82.005191], [34.030441, -117.606271], [30.368225, -91.074393], [25.734897, -80.30295], [44.56914, -120.089911], [29.729075, -95.528613], [45.53607, -122.68524], [41.898518, -87.919823], [41.596261, -90.530332], [40.22124, -79.60381], [34.00803, -117.96389], [30.44192, -84.22645], [47.325099, -95.890249], [32.840044, -97.236313], [39.28837, -84.37524], [32.433778000000004, -93.713138], [40.498488, -78.661891], [35.78136, -78.64331], [43.647441, -123.522842], [33.94356, -117.0794], [25.942655, -80.204303], [34.02398, -117.55866], [33.771289, -84.39005], [36.081571, -85.213275], [37.71391, -122.12566499999998], [40.08056, -75.40750600000001], [41.77106, -72.678347], [33.70644, -117.77899], [32.742829, -96.553624], [37.509847, -122.488083], [39.645039, -76.667326], [38.15055, -122.111932], [46.66339, -92.47738], [28.929233, -81.778311], [30.198925, -85.705933], [25.729151, -80.258011], [41.665764, -78.72031899999998], [27.462465, -82.57288100000002], [25.62611, -80.417574], [39.236994, -121.035057], [30.477866, -91.166926], [37.357796, -121.747816], [33.410807, -111.989833], [34.829715, -82.255222], [34.16345, -118.62635], [39.86542, -76.8675], [34.099019, -117.30202], [36.258491, -115.278879], [33.139211, -117.141958], [37.115259, -76.494956], [42.713781, -123.366669], [41.046284, -73.799897], [32.571896, -86.184804], [36.57124, -121.91267], [33.84661, -117.8315], [33.840111, -117.249923], [25.94269, -80.199556], [28.553303000000003, -81.324268], [34.026213, -118.271718], [32.806494, -96.791439], [30.350690000000004, -97.500804], [38.685897, -121.244421], [28.49437, -81.45263], [33.668816, -112.185522], [36.142414, -86.710277], [40.028968, -75.43399699999998], [33.068472, -117.293418], [25.812131, -80.321549], [38.326674, -122.712661], [28.040512, -82.738148], [33.812658, -118.165108], [35.07294, -81.756187], [33.928541, -98.522908], [30.08696, -90.43666], [45.52655, -122.68125], [29.34962, -81.13154399999998], [40.922666, -73.820883], [28.447931, -81.470943], [40.712424, -73.823479], [38.554715, -121.404383], [33.84253, -117.87619], [28.472428000000004, -81.414671], [29.660679, -95.343089], [37.296621, -121.040026], [25.736637, -80.339737], [26.546332, -81.832036], [30.662525, -91.191701], [38.412612, -78.890803], [29.804240000000004, -95.29044], [40.051493, -76.32091899999998], [42.47059, -123.33639], [39.96428, -83.03036999999998], [34.025763, -117.564021], [39.084507, -77.160531], [28.188607, -82.54231999999998], [44.934261, -123.208353], [38.52907, -122.79323], [34.037690000000005, -117.80511], [34.912961, -82.22999899999998], [29.704472, -95.49294], [37.637089, -77.57867900000002], [34.056089, -118.255883], [28.42075800000001, -81.369831], [27.098518, -82.14875500000002], [28.618697, -81.258597], [44.80916, -93.10043], [38.669567, -121.361313], [38.553615, -121.474233], [45.530014, -122.665314], [34.06742, -117.418241], [44.578466, -75.64117900000002], [32.968646, -80.003168], [37.892862, -122.125001], [39.342373, -120.336974], [45.12431, -93.18841], [42.00447, -95.369921], [45.54002, -122.67097], [27.461521, -82.58755500000002], [41.49306, -94.6626], [32.719114000000005, -96.79], [26.16219, -80.16230999999998], [25.73291, -80.34637099999998], [27.938793, -82.285751], [35.024308000000005, -85.30063100000002], [29.01332, -81.23563], [25.79808, -80.337137], [40.715388, -73.97845699999998], [34.033273, -118.182882], [29.39885, -98.53085], [34.079879, -117.627514], [33.870453000000005, -118.056019], [37.710938, -120.959608], [39.64995, -104.91648], [30.291699, -81.77135799999998], [39.345083, -76.60956999999998], [42.740858, -84.513028], [30.578523, -87.438865], [35.565093, -82.59105600000002], [44.89053300000001, -93.394721], [40.205165, -78.99646800000002], [38.96283, -77.24204], [32.798813, -96.81855], [42.437921, -123.289378], [44.86267, -93.20964], [29.72991, -95.44733], [41.64942, -93.60833], [38.65318, -90.35388], [35.149194, -81.890136], [38.496178, -121.434443], [39.835398, -86.037389], [34.689369, -118.16943899999998], [28.205967, -82.667579], [38.39906, -104.61774], [35.082178000000006, -85.207652], [38.840185, -77.219133], [27.005457, -80.207459], [33.103686, -117.091988], [45.8323, -95.185799], [25.780287, -80.320819], [30.517044, -91.143099], [28.815192, -81.630292], [39.9879, -75.25317700000002], [33.982427, -118.273345], [34.06584, -117.993471], [38.576682, -121.415322], [33.98784000000001, -84.084186], [36.916806, -121.731812], [40.749963, -73.86175300000002], [33.037955, -117.076062], [33.879596, -117.51842], [41.82147, -87.72892], [36.325496, -119.406489], [32.794071, -97.212406], [41.040823, -123.655973], [34.732943, -114.549518], [32.833983, -96.633942], [25.447833, -80.48533499999998], [44.793253, -93.288806], [39.858065, -77.68588100000002], [38.907679, -105.979622], [38.713888, -122.918455], [33.916415, -118.273852], [37.96007, -122.50958500000002], [34.9182, -82.873216], [45.445257, -122.73553400000002], [25.68654200000001, -80.381561], [35.087841, -81.12347], [39.013398, -77.04473], [33.921478, -118.369005], [38.74256, -121.27161], [44.836058, -93.085479], [35.97375800000001, -78.373953], [38.322842, -122.025739], [38.49240800000001, -121.427277], [36.88126, -76.21146], [43.472461, -124.22396], [30.422585, -84.29400600000002], [33.85907, -118.28964], [38.85761, -77.372279], [38.611987, -121.383062], [44.446337, -118.786148], [37.634743, -77.519913], [41.177518, -112.002498], [39.64227, -105.00598], [36.187966, -95.940315], [38.69716, -75.07562], [25.902517, -80.159824], [36.15620300000001, -86.692236], [34.09859, -118.314889], [34.0007, -118.280793], [37.29568, -122.02712], [32.848552000000005, -112.312256], [41.09913, -81.49994000000002], [34.050225, -118.262592], [28.039096, -82.454995], [41.56973, -87.74384], [25.627063, -80.385777], [34.769472, -117.330197], [45.52381, -122.82013], [30.455914, -90.95213], [33.959523, -117.310058], [34.037429, -81.09114], [32.75519, -117.2019], [44.390264, -120.95993500000002], [43.113223, -123.356323], [32.759497, -97.073685], [43.02822000000001, -76.04495], [32.82204, -96.878352], [33.653956, -78.988011], [34.119468, -117.783275], [38.673355, -120.94451], [40.099931, -75.21269699999998], [36.240167, -119.361612], [30.497235, -97.594731], [36.782172, -76.393464], [33.90473, -84.47538], [32.76379, -96.93981], [30.48016, -97.80196], [42.160157, -71.95456800000002], [37.59228, -120.957401], [36.141446, -86.669973], [37.250232, -93.336645], [41.71542, -86.80569200000002], [33.129404, -87.487318], [30.435273, -87.245981], [32.924481, -96.775774], [39.945205, -105.236352], [45.5441, -122.67564], [26.087218, -80.362898], [39.39031, -119.757488], [44.06371, -123.04941], [33.914266999999995, -118.179634], [27.270389, -80.424589], [38.6317, -121.39837], [39.961169, -74.917176], [30.341266, -91.72761], [37.466499, -120.830597], [34.73806, -86.65621999999998], [34.064317, -117.809069], [32.9442, -96.90408], [33.726588, -117.917352], [34.081458000000005, -117.481576], [39.656513, -78.053687], [43.597798, -84.146028], [36.184188, -86.79809399999998], [29.692224, -82.37228], [28.273366, -82.30600799999998], [33.810911, -118.290395], [39.218949, -76.658123], [28.085898, -82.4544], [36.317176, -84.228945], [36.843977, -120.146396], [37.37351, -121.92644], [28.247066, -81.630586], [33.894251000000004, -118.193271], [25.797055, -80.23996], [28.054543, -82.01185500000003], [47.557667, -122.339139], [35.412254, -119.038945], [40.689293, -73.99896], [37.15396, -121.68696], [38.796988, -77.130659], [38.472103, -121.4204], [39.085233, -84.52292], [37.62127, -122.07718], [37.746018, -121.584011], [34.095738, -117.871851], [25.760892, -80.394712], [39.4184, -103.659008], [39.876622, -78.804705], [39.29674, -76.81759], [39.982163, -76.74347900000002], [33.91832, -118.37047], [47.733795, -122.29785], [34.005276, -78.888801], [35.2375, -80.92014], [45.553811, -118.464256], [38.557251, -121.502932], [33.921457000000004, -111.455086], [38.50591, -90.619772], [29.423145, -98.38939], [34.005972, -118.413666], [45.625544, -94.57131], [29.702881, -81.66418399999998], [40.831646, -74.178348], [29.43123, -98.50039], [32.759424, -117.184957], [25.685996, -80.39984399999999], [39.442417, -77.403901], [37.647532, -77.40768], [25.99598, -80.166054], [28.043456, -82.454964], [32.676140000000004, -97.01409], [28.428795, -81.40712099999998], [38.91955, -77.2274], [36.142071, -86.699546], [38.0581, -122.149954], [33.412861, -111.891497], [25.761051, -80.480324], [25.802062, -80.369137], [38.558932, -121.473845], [40.900415, -73.795713], [25.750424, -80.208453], [40.12811, -75.450764], [34.121078000000004, -117.895134], [32.9023, -96.98577], [35.815457, -78.70501800000002], [28.05432, -82.34888000000002], [33.368358, -81.441749], [40.882369, -72.767246], [45.831901, -95.269162], [35.014375, -85.337402], [44.76292, -68.95069000000001], [25.899184, -80.191929], [33.4983, -117.65843999999998], [37.757359, -112.844234], [39.415394, -123.354803], [28.57993, -81.37505999999998], [26.542551, -81.677465], [38.611167, -90.203895], [39.450721, -76.321977], [34.157621, -118.412743], [35.127528000000005, -111.180042], [40.381646, -123.01596], [35.017002000000005, -85.250362], [27.95593, -82.46595], [40.267893, -105.353483], [44.46335, -92.56662], [32.924481, -96.775774], [43.1577, -77.71333], [26.61374600000001, -81.679245], [37.085356, -122.083229], [43.64622, -120.19539], [44.81868, -93.17295], [40.666548, -73.801528], [38.55812, -76.059779], [40.01477, -82.99264000000002], [27.34446, -82.44683], [33.134765, -81.013856], [33.76804, -117.192144], [32.662955, -96.823481], [29.676758000000003, -95.375482], [37.975699, -120.392533], [44.812782, -93.602196], [47.07664000000001, -114.766521], [27.772387, -82.730592], [39.7256, -105.040975], [42.152601, -88.029314], [37.800704, -121.192342], [25.939421, -80.292374], [30.21357, -97.723135], [35.2437, -81.308966], [45.058741, -93.142497], [33.876467, -118.10278999999998], [45.393084, -122.799405], [28.53743, -81.36238], [39.73201, -86.04491999999998], [47.47029000000001, -122.26861], [29.085756, -82.185148], [25.82867, -80.206099], [33.702914, -84.18349599999998], [26.0406, -80.163516], [41.87215, -87.82029], [41.38139, -71.89955], [30.538429, -97.69234], [25.683923, -80.416415], [32.784627, -96.562447], [40.783922, -73.54104], [32.956720000000004, -117.118495], [45.133226, -122.899077], [41.687582, -91.634339], [33.982298, -118.074156], [37.89739, -122.0817], [44.579272, -118.449149], [32.679916, -96.671651], [29.085753000000004, -82.184913], [33.05657, -117.28982], [35.81973, -78.624], [40.465317, -78.649867], [33.801891999999995, -118.114554], [44.760807, -123.024747], [40.100396, -75.280765], [33.84855, -117.96464], [42.93391, -73.80353000000002], [37.599726, -77.547156], [25.940304, -80.306753], [38.7781, -77.17604], [37.70201, -121.91683], [39.259939, -77.30760699999998], [39.275318, -123.253179], [28.378609, -81.40581999999998], [41.85197700000001, -87.93481700000002], [37.552996, -77.443946], [25.732776, -80.346216], [39.0147, -74.87604], [46.261323, -112.218265], [38.77460900000001, -121.259631], [27.579508, -82.578165], [37.600385, -122.383948], [36.54952, -87.50756], [28.405091, -81.404542], [26.684997, -81.893377], [36.812097, -76.204842], [39.24669, -84.44675], [40.643756, -74.01865], [40.215102, -76.94725799999998], [38.49305, -76.98724], [39.80234, -84.20709000000002], [34.845137, -82.266276], [32.78222, -96.782998], [27.433765, -82.459319], [33.480397, -112.022876], [33.700289, -80.915312], [29.736271, -95.605318], [25.83006, -80.383627], [34.069884, -117.295614], [34.06742, -117.57616000000002], [44.992918, -93.400712], [36.122735, -86.727446], [33.02053, -96.9358], [47.835706, -122.26878700000002], [35.128467, -85.242913], [44.461745, -93.933416], [42.803968, -83.727683], [33.932008, -118.178628], [43.0555, -87.92474], [36.692739, -119.727175], [38.465515, -122.653222], [35.614949, -119.867656], [26.143416, -80.44145400000002], [30.74007000000001, -88.08337], [34.17728, -118.309599], [33.661593, -86.83075799999996], [32.92046, -117.11537], [32.738512, -96.612214], [27.820106, -82.699877], [25.59865, -80.35243299999998], [42.69873, -73.83627], [34.320613, -118.496396], [33.584301, -84.374033], [47.024627, -113.304973], [33.940121999999995, -117.291244], [41.640064, -124.1151], [25.796113, -80.239941], [38.877758, -77.270253], [32.67488, -97.1595], [29.958075, -90.078803], [40.73629, -73.84483], [42.927814, -85.681855], [32.526139, -81.15832900000002], [35.161497999999995, -81.45179], [36.147834, -95.92808], [39.818945, -75.44948000000002], [30.42887, -91.06124], [38.648948, -121.350392], [32.83691, -97.008729], [30.03962000000001, -89.97179], [45.606125, -94.40012], [45.486826, -122.678826], [35.124456, -118.449959], [38.866026, -77.20144300000003], [29.7382, -95.44157], [47.324207, -114.899812], [38.896676, -77.201088], [44.924951, -93.451927], [35.183707, -80.744001], [28.573153, -81.372268], [25.875451, -80.208743], [34.030269, -117.704281], [39.178355, -120.854047], [37.114815, -121.623347], [33.654434, -93.660576], [34.031811, -118.188277], [32.805529, -117.151046], [30.450739, -91.141228], [34.923607000000004, -120.416665], [38.673924, -121.733096], [34.01805, -118.146106], [40.888898, -77.476303], [28.472583, -81.39584], [37.96861, -121.248927], [45.87467, -122.51616], [42.955916, -85.661948], [37.907486, -122.315412], [39.02304, -77.0167], [40.645042, -75.4261], [26.318789, -80.116392], [47.629568, -122.153627], [34.963926, -82.002197], [28.91401, -82.473209], [34.492923, -117.572946], [32.66362, -97.28869], [37.354989, -77.411854], [33.886527, -117.371925], [25.883637, -80.243199], [35.303114, -119.003144], [27.838293, -82.699828], [32.739171, -96.674285], [34.064174, -118.250447], [34.296698, -118.42297], [34.18097, -118.314012], [39.405197, -121.688031], [32.717766999999995, -117.089377], [33.99863, -118.36988999999998], [28.472312, -81.44440300000002], [39.08443, -94.48941], [30.313728, -81.66216899999998], [34.725807, -92.35096], [34.02888, -118.00291], [40.102311, -75.06182], [43.955189, -90.35022], [33.891753, -118.043001], [37.410066, -121.879205], [33.928512, -118.239277], [35.943788, -78.562513], [41.57114, -87.43828], [40.114364, -75.436707], [28.40255, -80.70551999999998], [39.106669, -94.575442], [36.56931, -76.74568000000002], [37.811298, -121.992688], [36.206117, -86.772297], [26.591128, -80.069249], [35.73784699999999, -78.609877], [25.816621, -80.313551], [34.492166999999995, -118.283689], [33.772026000000004, -117.909168], [45.656937, -122.57031], [33.790813, -81.41896], [35.91633200000001, -82.919635], [39.011905, -76.406442], [39.234398, -122.181905], [25.657548, -80.41592800000002], [25.587378, -80.429541], [42.52198900000001, -76.683868], [40.845108, -73.918939], [38.493144, -121.457667], [34.717714, -92.341927], [37.578188, -77.320114], [34.020281, -118.241093], [44.861476, -93.298303], [38.580046, -121.505151], [45.314097, -122.917235], [29.951095, -90.066146], [26.712347, -81.708191], [41.291588, -72.67133100000002], [35.08139, -85.18611], [29.767185, -95.366123], [34.406155, -117.396574], [39.455302, -121.493425], [41.238368, -73.022351], [44.36967, -95.914646], [38.908357, -77.432383], [29.960773, -90.076549], [33.576053, -86.639009], [39.113353, -94.68239], [36.844335, -76.196569], [36.297658, -119.137193], [26.226736, -80.13628299999998], [34.128593, -80.7762], [33.78821, -84.39149], [39.916221, -121.643122], [42.254265, -88.150573], [33.879946999999994, -118.191923], [40.22482, -76.766356], [33.972719, -112.127054], [39.850531, -104.986029], [34.494202, -82.369185], [38.64412, -121.38892], [43.59212, -122.02328], [33.894738000000004, -118.283109], [44.19882, -93.69057], [35.058907, -80.769735], [29.86343, -95.462931], [34.569595, -118.687988], [33.891825, -117.55579], [34.159545, -118.63741], [40.861705, -73.974584], [38.62877, -121.40553], [37.336341, -121.934019], [25.924424, -80.31085300000002], [34.010852, -118.306742], [28.811439, -81.317779], [41.26394000000001, -112.02512], [35.783925, -78.695337], [39.77989, -104.9858], [25.896463, -80.211109], [34.041661, -118.376616], [38.764, -90.0442], [34.689875, -117.702377], [34.003725, -118.286382], [32.86693, -96.66617], [36.734603, -78.10273000000002], [32.503298, -111.26761], [41.66075, -72.51904], [40.36682, -111.28956], [42.38326, -83.17859], [34.077356, -117.558634], [26.08767000000001, -80.36891], [34.285777, -118.437932], [25.808224, -80.313148], [39.14346, -76.844741], [38.923748, -94.76071], [37.80811, -122.36719], [32.94096, -112.73431], [37.765236, -122.404898], [28.612144, -81.43144000000002], [28.430887, -81.407593], [34.4284, -119.770095], [38.57759, -121.50759], [38.6293, -90.32311], [42.4662, -88.01715], [43.114184, -77.633252], [32.834887, -96.761432], [40.08086, -75.385919], [33.972449, -118.236816], [29.785059000000004, -95.369156], [27.80076, -82.74023000000003], [33.56963, -113.35914], [32.666677, -96.716519], [30.422695, -97.636466], [34.0319, -84.04608], [33.689012, -117.919357], [45.486447, -122.772688], [39.74539, -105.43974], [42.6611, -104.05262], [44.018512, -75.76532399999998], [39.28461, -76.54401800000002], [42.868991, -123.246564], [40.714398, -74.054793], [41.67067, -72.773962], [36.310645, -119.13531100000002], [29.600229, -95.27135], [34.030509, -118.438398], [33.985306, -117.907208], [40.902537, -124.02889], [43.613029, -118.70853], [34.242571000000005, -117.433108], [40.42774, -74.10616], [35.221276, -114.200788], [43.004443, -83.690851], [32.234374, -110.875422], [25.824388, -80.33490400000002], [33.935108, -117.878504], [34.042949, -118.272635], [47.54958, -122.31347], [40.83982, -73.92867], [30.424371, -89.133013], [33.35373, -111.971272], [36.066774, -86.686881], [27.4463, -82.49948], [28.194645, -82.390025], [26.547438, -81.790236], [32.963709, -117.095598], [43.541947, -89.46922099999998], [37.550763, -77.437978], [40.61504, -111.43347], [40.524755, -74.31604], [39.10348, -77.54284], [34.17333, -118.535977], [43.6697, -120.23069], [44.35477, -111.41183], [40.110097, -76.483441], [29.441689, -98.438541], [33.984238, -117.844977], [40.850169, -73.944819], [37.788022, -121.300917], [38.575131, -121.552436], [37.40427800000001, -121.977644], [33.880151, -117.565244], [41.763161, -88.037301], [40.413601, -120.643232], [45.084039, -93.28789], [32.2757, -90.19353], [33.66052, -84.372148], [34.156918, -118.448685], [40.63156, -111.86599], [34.077733, -117.814024], [40.130586, -74.967607], [38.847588, -76.940969], [30.635625, -91.109413], [34.067425, -117.576435], [44.42897, -121.922596], [35.197485, -80.790675], [28.609407, -81.415767], [37.93934, -122.51637], [33.414675, -111.89149], [40.799824, -73.929906], [35.17052, -90.18996], [38.456685, -121.41037], [30.059027, -97.833827], [32.981204, -117.08515], [41.306501, -73.033579], [33.820274, -118.193161], [33.902185, -118.25334], [40.585169, -122.419775], [30.253876, -97.878765], [40.729363, -112.587226], [36.240862, -120.104169], [36.325854, -119.116955], [33.976037, -117.37183799999998], [25.733243, -80.333047], [25.797503, -80.24835999999998], [34.85388, -82.39066899999997], [33.83562, -79.048426], [45.997642, -86.004763], [34.156673, -118.421435], [37.964139, -122.31833600000002], [33.965545, -118.232761], [34.068303, -117.97682], [41.818524, -74.05638], [25.688182, -80.365879], [42.8661, -85.68396], [29.654402, -95.344196], [42.398509, -82.984107], [33.524125, -86.808074], [33.252506, -117.197283], [34.989412, -81.94649100000002], [28.550368, -81.366485], [41.674315, -72.8501], [25.714607, -80.413569], [38.481672, -121.405276], [32.970678, -80.136027], [32.885639000000005, -80.666187], [40.24897, -75.34626999999998], [39.329226, -120.292867], [25.927717, -80.293234], [32.225127, -110.966339], [28.259744, -81.48618], [43.634942, -116.25664], [44.95269, -93.45934], [35.146784999999994, -78.729431], [40.754738, -122.913061], [26.092947, -80.22498900000002], [29.928357, -90.028599], [33.877165000000005, -117.545729], [38.90694000000001, -104.8259], [40.732672, -74.119015], [38.41111400000001, -81.79464], [27.962358, -82.801653], [28.538288, -82.56627900000002], [38.656787, -77.279187], [30.180417, -81.73983199999998], [37.960006, -121.333487], [34.028941, -118.433564], [38.155653, -122.406215], [33.755959999999995, -117.853829], [44.89047100000001, -93.399047], [33.971509000000005, -118.252036], [33.86939, -117.73168], [47.423418, -93.599324], [40.845037, -73.926816], [45.51549, -122.69966], [34.266957, -118.443827], [48.20911, -114.293068], [30.299883, -97.71667], [38.680017, -121.334042], [34.04096, -118.21862], [35.033968, -85.229811], [34.344173, -117.461646], [29.864058, -95.332553], [33.46257, -112.12931], [29.773674, -95.592735], [33.974652, -118.283783], [45.090261, -93.402489], [26.556614, -81.871667], [34.784296999999995, -82.824912], [40.318917, -77.983919], [33.686281, -84.306753], [33.91294, -118.13128], [39.98558, -75.09328599999998], [37.631562, -122.084009], [36.132511, -86.727124], [34.914782, -82.319888], [47.87704, -122.24021], [40.736817, -73.599298], [34.628906, -82.117038], [37.824282, -122.267975], [34.278641, -118.397542], [29.261409000000004, -81.117435], [40.802023, -73.441317], [38.751819, -121.265831], [38.664196, -121.306155], [39.29973, -76.74301], [39.050205, -94.471124], [44.90663, -122.98606], [37.966789, -122.126154], [34.052739, -118.458171], [36.924039, -121.797623], [34.782001, -118.170499], [40.819443, -73.930635], [42.4101, -87.85499], [45.12129, -93.18865], [45.51048, -122.66666], [40.955327, -73.860905], [33.989327, -118.139322], [28.212602, -81.477487], [35.038522, -107.360361], [33.90473, -84.47538], [25.517763, -80.428167], [43.17081, -117.03629], [32.919470000000004, -96.853011], [37.952495, -122.32801], [41.835433, -122.849582], [33.91032, -118.105103], [34.01027, -117.8234], [25.703314, -80.285331], [36.87439000000001, -76.200096], [40.18378, -111.64671], [36.0352, -79.794], [40.73516400000001, -73.860805], [40.69660800000001, -111.948093], [40.004809, -75.771845], [32.9252, -96.78807], [40.046935, -86.828946], [41.12295, -73.33556], [34.797557, -82.42135400000002], [35.836549, -78.585937], [38.719717, -121.29578], [33.480676, -117.140937], [33.743765, -81.02444799999998], [41.470609, -78.393491], [41.81364, -83.44686], [33.650626, -78.982096], [29.727938, -95.520547], [32.71784, -117.149517], [29.937191, -95.280855], [43.03038, -87.98638000000004], [25.876398, -80.212288], [38.819052, -77.443079], [43.02581, -83.732275], [45.50701, -122.71866], [34.021655, -80.946156], [35.328179, -120.822817], [42.84884, -73.753322], [43.8646, -91.63844], [45.263854, -93.556021], [38.81028, -121.163962], [43.091694, -75.93133], [40.843118, -73.87191], [32.727509000000005, -117.104698], [33.70644, -117.779], [33.428767, -86.821237], [45.282338, -123.824247], [34.95322, -82.260572], [40.665222, -73.802155], [36.852037, -81.47612], [28.451283, -81.897274]],\n",
       "                {&quot;blur&quot;: 15, &quot;maxZoom&quot;: 18, &quot;minOpacity&quot;: 0.5, &quot;radius&quot;: 25}\n",
       "            ).addTo(map_3b372affefdb60a3fdec124914d3ed42);\n",
       "        \n",
       "&lt;/script&gt;\n",
       "&lt;/html&gt;\" style=\"position:absolute;width:100%;height:100%;left:0;top:0;border:none !important;\" allowfullscreen webkitallowfullscreen mozallowfullscreen></iframe></div></div>"
      ],
      "text/plain": [
       "<folium.folium.Map at 0x7fdbededf8e0>"
      ]
     },
     "execution_count": 77,
     "metadata": {},
     "output_type": "execute_result"
    }
   ],
   "source": [
    "map=folium.Map()\n",
    "hp(lat_lon_pairs).add_to(map)\n",
    "map"
   ]
  },
  {
   "cell_type": "code",
   "execution_count": null,
   "metadata": {
    "id": "42WFoPQS38a3"
   },
   "outputs": [],
   "source": []
  },
  {
   "cell_type": "code",
   "execution_count": null,
   "metadata": {
    "id": "ZLbl2ZFN38YZ"
   },
   "outputs": [],
   "source": []
  },
  {
   "cell_type": "code",
   "execution_count": null,
   "metadata": {
    "id": "lSUYk1fD3NWE"
   },
   "outputs": [],
   "source": []
  },
  {
   "cell_type": "markdown",
   "metadata": {
    "id": "kB2WV2Pu3WRB"
   },
   "source": [
    "##Summary & Conclusions\n",
    "\n",
    "Insights:\n",
    "\n",
    "-- No Data for NY\n",
    "\n",
    "-- No. of accidents/city decreases or increases exponentially\n",
    "\n",
    "-- < 5% of cities have more than 1000 yearly accidents\n",
    "\n",
    "-- 1110 Cities have only 1 accident"
   ]
  },
  {
   "cell_type": "code",
   "execution_count": 60,
   "metadata": {
    "colab": {
     "base_uri": "https://localhost:8080/"
    },
    "id": "ZAhA0MFE3NUL",
    "outputId": "e0f1981b-e336-4a25-ef97-ca4a6d3a5d5f"
   },
   "outputs": [
    {
     "name": "stdout",
     "output_type": "stream",
     "text": [
      "\u001b[?25l     \u001b[90m━━━━━━━━━━━━━━━━━━━━━━━━━━━━━━━━━━━━━━━━\u001b[0m \u001b[32m0.0/68.6 KB\u001b[0m \u001b[31m?\u001b[0m eta \u001b[36m-:--:--\u001b[0m\r",
      "\u001b[2K     \u001b[90m━━━━━━━━━━━━━━━━━━━━━━━━━━━━━━━━━━━━━━━━\u001b[0m \u001b[32m68.6/68.6 KB\u001b[0m \u001b[31m3.2 MB/s\u001b[0m eta \u001b[36m0:00:00\u001b[0m\n",
      "\u001b[?25h  Preparing metadata (setup.py) ... \u001b[?25l\u001b[?25hdone\n",
      "  Building wheel for uuid (setup.py) ... \u001b[?25l\u001b[?25hdone\n"
     ]
    }
   ],
   "source": [
    "!pip install jovian  -q"
   ]
  },
  {
   "cell_type": "code",
   "execution_count": 80,
   "metadata": {
    "id": "Ct6V9V8x3M7a"
   },
   "outputs": [],
   "source": [
    "import jovian"
   ]
  },
  {
   "cell_type": "code",
   "execution_count": 81,
   "metadata": {
    "colab": {
     "base_uri": "https://localhost:8080/"
    },
    "id": "ljL33FfD3M4B",
    "outputId": "f416aeff-58e6-4eef-d490-1e9c03e2f507"
   },
   "outputs": [
    {
     "name": "stdout",
     "output_type": "stream",
     "text": [
      "[jovian] Detected Colab notebook...\u001b[0m\n",
      "[jovian] jovian.commit() is no longer required on Google Colab. If you ran this notebook from Jovian, \n",
      "then just save this file in Colab using Ctrl+S/Cmd+S and it will be updated on Jovian. \n",
      "Also, you can also delete this cell, it's no longer necessary.\u001b[0m\n"
     ]
    }
   ],
   "source": [
    "jovian.commit()"
   ]
  },
  {
   "cell_type": "code",
   "execution_count": null,
   "metadata": {
    "id": "nrKKAJav3M1U"
   },
   "outputs": [],
   "source": []
  },
  {
   "cell_type": "code",
   "execution_count": null,
   "metadata": {
    "id": "R66KuvW93Myq"
   },
   "outputs": [],
   "source": []
  }
 ],
 "metadata": {
  "accelerator": "GPU",
  "colab": {
   "collapsed_sections": [
    "yiREdA-X1e5t",
    "YnSnTSHj2ssj",
    "dLxm-aLrcijm",
    "2oboO108f6xg",
    "bx2FyQXl2_sK",
    "0iCvi4vZw9_j",
    "XKuSwdHFxMwi",
    "ov7Lcczd3PBy"
   ],
   "provenance": []
  },
  "gpuClass": "standard",
  "language_info": {
   "codemirror_mode": {
    "name": "ipython",
    "version": 3
   },
   "file_extension": ".py",
   "mimetype": "text/x-python",
   "name": "python",
   "nbconvert_exporter": "python",
   "pygments_lexer": "ipython3",
   "version": "3.7.6"
  }
 },
 "nbformat": 4,
 "nbformat_minor": 0
}